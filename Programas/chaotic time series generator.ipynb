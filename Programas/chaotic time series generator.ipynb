{
 "cells": [
  {
   "cell_type": "code",
   "execution_count": 1,
   "metadata": {},
   "outputs": [
    {
     "name": "stdout",
     "output_type": "stream",
     "text": [
      "Populating the interactive namespace from numpy and matplotlib\n"
     ]
    }
   ],
   "source": [
    "%pylab inline\n",
    "import decimal\n",
    "from mpl_toolkits.mplot3d import Axes3D\n",
    "import ipyvolume as pv\n",
    "N = 50000\n",
    "import numpy as np"
   ]
  },
  {
   "cell_type": "code",
   "execution_count": null,
   "metadata": {},
   "outputs": [],
   "source": [
    "def plotmap(map):\n",
    "    sn = map[1:]\n",
    "    sn1 = map[:-1]\n",
    "    plot(sn1[:40000], sn[:40000], 'bo')"
   ]
  },
  {
   "cell_type": "code",
   "execution_count": null,
   "metadata": {},
   "outputs": [],
   "source": [
    "### Logistic map\n",
    "logistic = []\n",
    "A = 4\n",
    "X0 = 0.1\n",
    "logistic.append(X0)\n",
    "for i in range(N - 1):\n",
    "    X1 = A * X0 * (1 - X0)\n",
    "    logistic.append(X1)\n",
    "    X0 = X1"
   ]
  },
  {
   "cell_type": "code",
   "execution_count": null,
   "metadata": {},
   "outputs": [],
   "source": [
    "plot(logistic)"
   ]
  },
  {
   "cell_type": "code",
   "execution_count": null,
   "metadata": {},
   "outputs": [],
   "source": [
    "plotmap(logistic)"
   ]
  },
  {
   "cell_type": "code",
   "execution_count": null,
   "metadata": {},
   "outputs": [],
   "source": [
    "###sine\n",
    "sine = []\n",
    "A = 1\n",
    "X0 = 0.1\n",
    "\n",
    "sine.append(X0)\n",
    "\n",
    "for i in range(N - 1):\n",
    "    X1 = A * np.sin(np.pi * X0)\n",
    "    sine.append(X1)\n",
    "    X0 = X1"
   ]
  },
  {
   "cell_type": "code",
   "execution_count": null,
   "metadata": {},
   "outputs": [],
   "source": [
    "plot(sine)"
   ]
  },
  {
   "cell_type": "code",
   "execution_count": null,
   "metadata": {},
   "outputs": [],
   "source": [
    "plotmap(sine)"
   ]
  },
  {
   "cell_type": "code",
   "execution_count": null,
   "metadata": {},
   "outputs": [],
   "source": [
    "## tent map\n",
    "tent = []\n",
    "A = 2\n",
    "X0 = 1 / np.sqrt(2)\n",
    "tent.append(X0)\n",
    "for i in range(N - 1):\n",
    "    X1 = A * np.min([X0, 1 - X0])\n",
    "    tent.append(X1)\n",
    "    X0 = X1"
   ]
  },
  {
   "cell_type": "code",
   "execution_count": null,
   "metadata": {},
   "outputs": [],
   "source": [
    "plot(tent)"
   ]
  },
  {
   "cell_type": "code",
   "execution_count": null,
   "metadata": {},
   "outputs": [],
   "source": [
    "plotmap(tent)"
   ]
  },
  {
   "cell_type": "code",
   "execution_count": null,
   "metadata": {},
   "outputs": [],
   "source": [
    "## Linear congruential generator\n",
    "\n",
    "linear_congruential_generator = []\n",
    "A = 7141\n",
    "B = 54773\n",
    "C = 259200\n",
    "X0 = 0\n",
    "linear_congruential_generator.append(X0)\n",
    "\n",
    "for i in range(N - 1):\n",
    "    X1 = decimal.Decimal(A * X0 + B % C)\n",
    "    linear_congruential_generator.append(X1)\n",
    "    X0 = X1"
   ]
  },
  {
   "cell_type": "code",
   "execution_count": null,
   "metadata": {},
   "outputs": [],
   "source": [
    "linear_congruential_generator[1]"
   ]
  },
  {
   "cell_type": "code",
   "execution_count": null,
   "metadata": {},
   "outputs": [],
   "source": [
    "##cubic map\n",
    "\n",
    "cubic_map = []\n",
    "A = 3\n",
    "X0 = 0.1\n",
    "cubic_map.append(X0)\n",
    "for i in range(N - 1):\n",
    "    X1 = A * X0 * (1 - X0**2)\n",
    "    cubic_map.append(X1)\n",
    "    X0 = X1"
   ]
  },
  {
   "cell_type": "code",
   "execution_count": null,
   "metadata": {},
   "outputs": [],
   "source": [
    "plot(cubic_map)"
   ]
  },
  {
   "cell_type": "code",
   "execution_count": null,
   "metadata": {},
   "outputs": [],
   "source": [
    "plotmap(cubic_map)"
   ]
  },
  {
   "cell_type": "code",
   "execution_count": null,
   "metadata": {},
   "outputs": [],
   "source": [
    "##rickers population model\n",
    "\n",
    "rickers = []\n",
    "A = 20\n",
    "X0 = 0.1\n",
    "rickers.append(X0)\n",
    "for i in range(N - 1):\n",
    "    X1 = A * X0 * np.exp(-X0)\n",
    "    rickers.append(X1)\n",
    "    X0 = X1"
   ]
  },
  {
   "cell_type": "code",
   "execution_count": null,
   "metadata": {},
   "outputs": [],
   "source": [
    "plot(rickers)"
   ]
  },
  {
   "cell_type": "code",
   "execution_count": null,
   "metadata": {},
   "outputs": [],
   "source": [
    "plotmap(rickers)"
   ]
  },
  {
   "cell_type": "code",
   "execution_count": null,
   "metadata": {},
   "outputs": [],
   "source": [
    "##gauss map\n",
    "\n",
    "gauss_map = []\n",
    "X0 = 0.1\n",
    "gauss_map.append(X0)\n",
    "for i in range(N - 1):\n",
    "    X1 = float(1 / X0 % 1)\n",
    "    gauss_map.append(X1)\n",
    "    X0 = X1"
   ]
  },
  {
   "cell_type": "code",
   "execution_count": null,
   "metadata": {},
   "outputs": [],
   "source": [
    "plotmap(gauss_map)"
   ]
  },
  {
   "cell_type": "code",
   "execution_count": null,
   "metadata": {},
   "outputs": [],
   "source": [
    "##cusp map\n",
    "\n",
    "cusp_map = []\n",
    "A = 2\n",
    "X0 = 0.5\n",
    "cusp_map.append(X0)\n",
    "for i in range(N - 1):\n",
    "    X1 = 1 - A * np.sqrt(np.abs(X0))\n",
    "    cusp_map.append(X1)\n",
    "    X0 = X1"
   ]
  },
  {
   "cell_type": "code",
   "execution_count": null,
   "metadata": {},
   "outputs": [],
   "source": [
    "plot(cusp_map)"
   ]
  },
  {
   "cell_type": "code",
   "execution_count": null,
   "metadata": {},
   "outputs": [],
   "source": [
    "plotmap(cusp_map)"
   ]
  },
  {
   "cell_type": "code",
   "execution_count": null,
   "metadata": {},
   "outputs": [],
   "source": [
    "##Pinchers map\n",
    "\n",
    "pinchers_map = []\n",
    "s = 2\n",
    "c = 0.5\n",
    "X0 = 0\n",
    "pinchers_map.append(X0)\n",
    "for i in range(N - 1):\n",
    "    X1 = np.abs(np.tanh(s * (X0 - c)))\n",
    "    pinchers_map.append(X1)\n",
    "    X0 = X1"
   ]
  },
  {
   "cell_type": "code",
   "execution_count": null,
   "metadata": {},
   "outputs": [],
   "source": [
    "plot(pinchers_map)"
   ]
  },
  {
   "cell_type": "code",
   "execution_count": null,
   "metadata": {},
   "outputs": [],
   "source": [
    "plotmap(pinchers_map)"
   ]
  },
  {
   "cell_type": "code",
   "execution_count": null,
   "metadata": {},
   "outputs": [],
   "source": [
    "##Spence map\n",
    "\n",
    "spence_map = []\n",
    "X0 = 0.5\n",
    "spence_map.append(X0)\n",
    "for i in range(N - 1):\n",
    "    X1 = np.abs(np.log(X0))\n",
    "    spence_map.append(X1)\n",
    "    X0 = X1"
   ]
  },
  {
   "cell_type": "code",
   "execution_count": null,
   "metadata": {},
   "outputs": [],
   "source": [
    "plot(spence_map)"
   ]
  },
  {
   "cell_type": "code",
   "execution_count": null,
   "metadata": {},
   "outputs": [],
   "source": [
    "plotmap(spence_map)"
   ]
  },
  {
   "cell_type": "code",
   "execution_count": null,
   "metadata": {},
   "outputs": [],
   "source": [
    "##Lozi map\n",
    "\n",
    "lozi_map = []\n",
    "a = 1.7\n",
    "b = 0.5\n",
    "X0 = -0.1\n",
    "Y0 = 0.1\n",
    "lozi_map.append(X0)\n",
    "for i in range(N - 1):\n",
    "    X1 = 1 - a * np.abs(X0) + b * Y0\n",
    "    lozi_map.append(X1)\n",
    "    Y0 = X0\n",
    "    X0 = X1"
   ]
  },
  {
   "cell_type": "code",
   "execution_count": null,
   "metadata": {},
   "outputs": [],
   "source": [
    "plot(lozi_map)"
   ]
  },
  {
   "cell_type": "code",
   "execution_count": null,
   "metadata": {},
   "outputs": [],
   "source": [
    "plotmap(lozi_map)"
   ]
  },
  {
   "cell_type": "code",
   "execution_count": null,
   "metadata": {},
   "outputs": [],
   "source": [
    "##Delayed logistic map\n",
    "\n",
    "delayed_logistic = []\n",
    "A = 2.27\n",
    "X0 = 0.001\n",
    "Y0 = 0.001\n",
    "delayed_logistic.append(X0)\n",
    "for i in range(N - 1):\n",
    "    X1 = A * X0 * (1 - Y0)\n",
    "    delayed_logistic.append(X1)\n",
    "    Y0 = X0\n",
    "    X0 = X1"
   ]
  },
  {
   "cell_type": "code",
   "execution_count": null,
   "metadata": {},
   "outputs": [],
   "source": [
    "plot(delayed_logistic)"
   ]
  },
  {
   "cell_type": "code",
   "execution_count": null,
   "metadata": {},
   "outputs": [],
   "source": [
    "plotmap(delayed_logistic)"
   ]
  },
  {
   "cell_type": "code",
   "execution_count": null,
   "metadata": {},
   "outputs": [],
   "source": [
    "##Tinkerbell map\n",
    "\n",
    "tinkerbell_map = []\n",
    "a = 0.9\n",
    "b = -0.6\n",
    "c = 2\n",
    "d = 0.5\n",
    "X0 = 0\n",
    "Y0 = 0.5\n",
    "tinkerbell_map.append(X0)\n",
    "for i in range(N - 1):\n",
    "    X1 = X0**2 - Y0**2 + a * X0 + b * Y0\n",
    "    tinkerbell_map.append(X1)\n",
    "    Y0 = 2 * X0 * Y0 + c * X0 + d * Y0\n",
    "    X0 = X1"
   ]
  },
  {
   "cell_type": "code",
   "execution_count": null,
   "metadata": {},
   "outputs": [],
   "source": [
    "plot(tinkerbell_map)"
   ]
  },
  {
   "cell_type": "code",
   "execution_count": null,
   "metadata": {},
   "outputs": [],
   "source": [
    "plotmap(tinkerbell_map)"
   ]
  },
  {
   "cell_type": "code",
   "execution_count": null,
   "metadata": {},
   "outputs": [],
   "source": [
    "##Burgers' map\n",
    "\n",
    "burgers_map = []\n",
    "a = 0.75\n",
    "b = 1.75\n",
    "X0 = -0.1\n",
    "Y0 = 0.1\n",
    "burgers_map.append(X0)\n",
    "for i in range(N - 1):\n",
    "    X1 = a * X0 - Y0**2 \n",
    "    burgers_map.append(X1)\n",
    "    Y0 = b * Y0 + X0 * Y0\n",
    "    X0 = X1    "
   ]
  },
  {
   "cell_type": "code",
   "execution_count": null,
   "metadata": {},
   "outputs": [],
   "source": [
    "plot(burgers_map)"
   ]
  },
  {
   "cell_type": "code",
   "execution_count": null,
   "metadata": {},
   "outputs": [],
   "source": [
    "plotmap(burgers_map)"
   ]
  },
  {
   "cell_type": "code",
   "execution_count": null,
   "metadata": {},
   "outputs": [],
   "source": [
    "## Holmes cubic map\n",
    "\n",
    "holmes_map = [] ############ check\n",
    "b = 0.2\n",
    "d = 2.77\n",
    "X0 = 1.6\n",
    "Y0 = 0\n",
    "holmes_map.append(X0)\n",
    "for i in range(N - 1):\n",
    "    X1 = Y0\n",
    "    holmes_map.append(X1)\n",
    "    Y0 = -(b * X0) + (d * Y0) - Y0**3"
   ]
  },
  {
   "cell_type": "code",
   "execution_count": null,
   "metadata": {},
   "outputs": [],
   "source": [
    "plot(holmes_map)"
   ]
  },
  {
   "cell_type": "code",
   "execution_count": null,
   "metadata": {},
   "outputs": [],
   "source": [
    "plotmap(holmes_map)"
   ]
  },
  {
   "cell_type": "code",
   "execution_count": null,
   "metadata": {},
   "outputs": [],
   "source": [
    "##Ikeda map\n",
    "\n",
    "ikeda_map = []\n",
    "alpha = 6\n",
    "beta = 0.4\n",
    "rho = 1\n",
    "miu = 0.9\n",
    "X0 = 0\n",
    "Y0 = 0\n",
    "ikeda_map.append(X0)\n",
    "for i in range(N - 1):\n",
    "    phi = beta - alpha / (1 + X0**2 + Y0**2) \n",
    "    X1 = rho + miu * (X0 * np.cos(phi) - Y0 * np.sin(phi))\n",
    "    ikeda_map.append(X1)\n",
    "    Y0 = miu * (X0 * np.sin(phi) + Y0 * np.cos(phi))\n",
    "    X0 = X1"
   ]
  },
  {
   "cell_type": "code",
   "execution_count": null,
   "metadata": {},
   "outputs": [],
   "source": [
    "plot(ikeda_map)"
   ]
  },
  {
   "cell_type": "code",
   "execution_count": null,
   "metadata": {},
   "outputs": [],
   "source": [
    "plotmap(ikeda_map)"
   ]
  },
  {
   "cell_type": "code",
   "execution_count": null,
   "metadata": {},
   "outputs": [],
   "source": [
    "##Hénon area-preserving quadratic map\n",
    "\n",
    "henon_area_map = [] #############check\n",
    "alpha = 76.11345964\n",
    "X0 = 0.6\n",
    "Y0 = 0.13\n",
    "henon_area_map.append(X0)\n",
    "for i in range(N - 1):\n",
    "    X1 = X0 * np.cos(alpha) - (Y0 - X0**2) * np.sin(alpha)\n",
    "    Y0 = X0 * np.sin(alpha) + (Y0 - X0**2) * np.cos(alpha)\n",
    "    henon_area_map.append(X1)\n",
    "    X0 = X1\n",
    "print(henon_area_map)"
   ]
  },
  {
   "cell_type": "code",
   "execution_count": null,
   "metadata": {},
   "outputs": [],
   "source": [
    "plot(henon_area_map)"
   ]
  },
  {
   "cell_type": "code",
   "execution_count": null,
   "metadata": {},
   "outputs": [],
   "source": [
    "plotmap(henon_area_map)"
   ]
  },
  {
   "cell_type": "code",
   "execution_count": null,
   "metadata": {},
   "outputs": [],
   "source": [
    "##Gingerbreadman map\n",
    "\n",
    "gingerbread_map = []\n",
    "X0 = 0.5\n",
    "Y0 = 3.7\n",
    "gingerbread_map.append(X0)\n",
    "for i in range(N - 1):\n",
    "    X1 = 1 + np.abs(X0) - Y0\n",
    "    gingerbread_map.append(X1)\n",
    "    Y0 = X0\n",
    "    X0 = X1"
   ]
  },
  {
   "cell_type": "code",
   "execution_count": null,
   "metadata": {},
   "outputs": [],
   "source": [
    "plot(gingerbread_map)"
   ]
  },
  {
   "cell_type": "code",
   "execution_count": null,
   "metadata": {},
   "outputs": [],
   "source": [
    "plotmap(gingerbread_map)"
   ]
  },
  {
   "cell_type": "code",
   "execution_count": null,
   "metadata": {},
   "outputs": [],
   "source": [
    "## Chaotic web map\n",
    "\n",
    "chaotic_web_map_x = [] #$##### check\n",
    "chaotic_web_map_y = []\n",
    "alpha = np.pi / 2\n",
    "k = 1\n",
    "X0 = 0\n",
    "Y0 = 3\n",
    "chaotic_web_map_x.append(X0)\n",
    "chaotic_web_map_y.append(Y0)\n",
    "for i in range(N - 1):\n",
    "    X1 = X0 * np.cos(alpha) - (Y0 + k * np.sin(X0)) * np.sin(alpha)\n",
    "    chaotic_web_map_x.append(X1)\n",
    "    Y1 = X0 * np.sin(alpha) - (Y0 + k * np.sin(X0)) * np.cos(alpha)\n",
    "    chaotic_web_map_y.append(Y1)\n",
    "    X0 = X1\n",
    "    Y0 = Y1"
   ]
  },
  {
   "cell_type": "code",
   "execution_count": null,
   "metadata": {},
   "outputs": [],
   "source": [
    "plot(chaotic_web_map_xp)"
   ]
  },
  {
   "cell_type": "code",
   "execution_count": null,
   "metadata": {},
   "outputs": [],
   "source": [
    "plotmap(chaotic_web_map_x)"
   ]
  },
  {
   "cell_type": "code",
   "execution_count": null,
   "metadata": {},
   "outputs": [],
   "source": [
    "##Lorenz three-dimensional chaotic map\n",
    "\n",
    "lorenz_3d_map = []\n",
    "X0 = 0.5\n",
    "Y0 = 0.5\n",
    "Z0 = -1\n",
    "lorenz_3d_map.append(X0)\n",
    "for i in range(N - 1):\n",
    "    X1 = X0 * Y0 - Z0\n",
    "    lorenz_3d_map.append(X1)\n",
    "    Z0 = Y0\n",
    "    Y0 = X0\n",
    "    X0 = X1\n",
    "lorenz_3d_map"
   ]
  },
  {
   "cell_type": "code",
   "execution_count": null,
   "metadata": {},
   "outputs": [],
   "source": [
    "plot(lorenz_3d_map)"
   ]
  },
  {
   "cell_type": "code",
   "execution_count": null,
   "metadata": {},
   "outputs": [],
   "source": [
    "plotmap(lorenz_3d_map)"
   ]
  },
  {
   "cell_type": "code",
   "execution_count": null,
   "metadata": {},
   "outputs": [],
   "source": [
    "##Damped driven pendulum\n",
    "\n",
    "damped_driven_pendulum_dx = [] ########## check\n",
    "damped_driven_pendulum_dy = []\n",
    "b = 0.05\n",
    "A = 0.6\n",
    "omega = 0.7\n",
    "x0 = 0\n",
    "y0 = 0\n",
    "t0 = 0.0\n",
    "\n",
    "damped_driven_pendulum_dx.append(x0)\n",
    "damped_driven_pendulum_dy.append(y0)\n",
    "h = 0.005\n",
    "for i in range(N - 1):\n",
    "    x1 = x0 + h * y0\n",
    "    y1 = y0 + h * (-np.sin(x0) - b * y0 + A * np.sin(omega * t0))\n",
    "    t1 = t0 + h\n",
    "    damped_driven_pendulum_dx.append(x1)\n",
    "    damped_driven_pendulum_dy.append(y1)\n",
    "    x0 = x1\n",
    "    y0 = y1\n",
    "    t0 = t1"
   ]
  },
  {
   "cell_type": "code",
   "execution_count": null,
   "metadata": {},
   "outputs": [],
   "source": [
    "plot(damped_driven_pendulum_dx)"
   ]
  },
  {
   "cell_type": "code",
   "execution_count": null,
   "metadata": {},
   "outputs": [],
   "source": [
    "plot(damped_driven_pendulum_dx, damped_driven_pendulum_dy)"
   ]
  },
  {
   "cell_type": "code",
   "execution_count": null,
   "metadata": {},
   "outputs": [],
   "source": [
    "##Driven van der Pol oscillator\n",
    "\n",
    "driven_van_der_pol_dx = []\n",
    "driven_van_der_pol_dy = []\n",
    "b = 3\n",
    "A = 5\n",
    "omega = 1.788\n",
    "x0 = -1.9\n",
    "y0 = 0\n",
    "t0 = 0\n",
    "driven_van_der_pol_dx.append(x0)\n",
    "driven_van_der_pol_dy.append(y0)\n",
    "h = 0.01\n",
    "for i in range(N - 1):\n",
    "    y1 = y0 + h * (-x0 + b * (1 - x0**2) * y0 + A * np.sin(omega * t0))\n",
    "    x1 = x0 + h * y0\n",
    "    t1 = t0 + h #* t0\n",
    "    driven_van_der_pol_dx.append(x1)\n",
    "    driven_van_der_pol_dy.append(y1)\n",
    "    x0 = x1\n",
    "    y0 = y1\n",
    "    t0 = t1"
   ]
  },
  {
   "cell_type": "code",
   "execution_count": null,
   "metadata": {},
   "outputs": [],
   "source": [
    "plot(driven_van_der_pol_dy)"
   ]
  },
  {
   "cell_type": "code",
   "execution_count": null,
   "metadata": {},
   "outputs": [],
   "source": [
    "plot(driven_van_der_pol_dx, driven_van_der_pol_dy)"
   ]
  },
  {
   "cell_type": "code",
   "execution_count": null,
   "metadata": {},
   "outputs": [],
   "source": [
    "##Shaw-van der Pol oscillator\n",
    "\n",
    "shawn_van_der_pol_dx = []\n",
    "shawn_van_der_pol_dy = []\n",
    "\n",
    "b = 1\n",
    "A = 1\n",
    "omega = 2\n",
    "x0 = 1.3\n",
    "y0 = 0\n",
    "t0 = 0\n",
    "h = 0.01\n",
    "\n",
    "shawn_van_der_pol_dx.append(x0)\n",
    "shawn_van_der_pol_dy.append(y0)\n",
    "\n",
    "for i in range(N - 1):\n",
    "    x1 = x0 + h * (y0 + A * np.sin(omega * t0))\n",
    "    y1 = y0 + h * (-x0 + b * (1 - x0**2) * y0)\n",
    "    t1 = t0 + h\n",
    "    shawn_van_der_pol_dx.append(x1)\n",
    "    shawn_van_der_pol_dy.append(y1)\n",
    "    x0 = x1\n",
    "    y0 = y1\n",
    "    t0 = t1\n",
    "# print(shawn_van_der_pol_dx)"
   ]
  },
  {
   "cell_type": "code",
   "execution_count": null,
   "metadata": {},
   "outputs": [],
   "source": [
    "plot(shawn_van_der_pol_dx[0:20000], shawn_van_der_pol_dy[0:20000], color='black')"
   ]
  },
  {
   "cell_type": "code",
   "execution_count": null,
   "metadata": {},
   "outputs": [],
   "source": [
    "##Forced Brusselator\n",
    "\n",
    "forced_brusselator_dx = []\n",
    "forced_brusselator_dy = []\n",
    "\n",
    "a = 0.4\n",
    "b = 1.2\n",
    "A = 0.05\n",
    "omega = 0.8\n",
    "\n",
    "x0 = 0.3\n",
    "y0 = 2\n",
    "t0 = 0\n",
    "h = 0.01\n",
    "\n",
    "forced_brusselator_dx.append(x0)\n",
    "forced_brusselator_dy.append(y0)\n",
    "\n",
    "for i in range(N - 1):\n",
    "    x1 = x0 + h * (x0**2 * y0 - (b + 1) * x0 + a + A * np.sin(omega * t0))\n",
    "    y1 = y0 + h * (-x0**2 * y0 + b * x0)\n",
    "    t1 = t0 + h\n",
    "    forced_brusselator_dx.append(x1)\n",
    "    forced_brusselator_dy.append(y1)\n",
    "    x0 = x1\n",
    "    y0 = y1\n",
    "    t0 = t1"
   ]
  },
  {
   "cell_type": "code",
   "execution_count": null,
   "metadata": {},
   "outputs": [],
   "source": [
    "plot(forced_brusselator_dx, forced_brusselator_dy)"
   ]
  },
  {
   "cell_type": "code",
   "execution_count": null,
   "metadata": {},
   "outputs": [],
   "source": [
    "##Ueda oscillator\n",
    "\n",
    "ueda_dx = []\n",
    "ueda_dy = []\n",
    "\n",
    "b = 0.05\n",
    "A = 7.5\n",
    "omega = 1\n",
    "x0 = 2.5\n",
    "y0 = 0\n",
    "t0 = 0\n",
    "h = 0.001\n",
    "\n",
    "ueda_dx.append(x0)\n",
    "ueda_dy.append(y0)\n",
    "for i in range(N - 1):\n",
    "    y1 = y0 + h * (-x0**3 - b * y0 + A * np.sin(omega * t0))\n",
    "    x1 = x0 + h * y0\n",
    "    t1 = t0 + h \n",
    "    ueda_dx.append(x1)\n",
    "    ueda_dy.append(y1)\n",
    "    x0 = x1\n",
    "    y0 = y1\n",
    "    t0 = t1"
   ]
  },
  {
   "cell_type": "code",
   "execution_count": null,
   "metadata": {},
   "outputs": [],
   "source": [
    "plot(ueda_dx, ueda_dy)"
   ]
  },
  {
   "cell_type": "code",
   "execution_count": null,
   "metadata": {},
   "outputs": [],
   "source": []
  },
  {
   "cell_type": "code",
   "execution_count": null,
   "metadata": {},
   "outputs": [],
   "source": [
    "## Duffing's two-well oscillator\n",
    "\n",
    "\n",
    "duffing_dx = []\n",
    "duffing_dy = []\n",
    "\n",
    "b = 0.25\n",
    "A = 0.4\n",
    "omega = 1\n",
    "x0 = 0.2\n",
    "y0 = 0\n",
    "t0 = 0\n",
    "h = 0.01\n",
    "duffing_dx.append(x0)\n",
    "duffing_dy.append(y0)\n",
    "for i in range(N - 1):\n",
    "    x1 = x0 + h * y0\n",
    "    y1 = y0 + h * (-x0**3 + x0 - b * y0 + A * np.sin(omega * t0))\n",
    "    t1 = t0 + h\n",
    "    duffing_dx.append(x1)\n",
    "    duffing_dy.append(y1)\n",
    "    x0 = x1\n",
    "    y0 = y1\n",
    "    t0 = t1\n",
    "# print(duffing_dx)"
   ]
  },
  {
   "cell_type": "code",
   "execution_count": null,
   "metadata": {},
   "outputs": [],
   "source": [
    "plot(duffing_dx[0:20000], duffing_dy[0:20000],color='black')\n",
    "# maximo = 20000\n",
    "# pv3 = pv\n",
    "# pv3.pylab.plot(np.array(duffing_dx[0:maximo]), np.array(duffing_dy[0:maximo]), np.array(chen_system_dz[0:maximo]),color=\"black\")\n",
    "# pv3.show()"
   ]
  },
  {
   "cell_type": "code",
   "execution_count": null,
   "metadata": {},
   "outputs": [],
   "source": [
    "##Duffing-van der Pol oscillator\n",
    "\n",
    "duffing_van_der_pol_dx = []\n",
    "duffing_van_der_pol_dy = []\n",
    "\n",
    "mu = 0.2\n",
    "rho = 8\n",
    "A = 0.35\n",
    "omega = 1.02\n",
    "x0 = 0.2\n",
    "y0 = -0.2\n",
    "t0 = 0\n",
    "h = 0.01\n",
    "duffing_van_der_pol_dx.append(x0)\n",
    "duffing_van_der_pol_dy.append(y0)\n",
    "for i in range(N - 1):\n",
    "    x1 = x0 + h * y0\n",
    "    y1 = y0 + h * (mu * (1 - rho * x0**2) * y0 - x0**3 + A * np.sin(omega * t0))\n",
    "    t1 = t0 + h\n",
    "    duffing_van_der_pol_dx.append(x1)\n",
    "    duffing_van_der_pol_dy.append(y1)\n",
    "    x0 = x1\n",
    "    y0 = y1\n",
    "    t0 = t1"
   ]
  },
  {
   "cell_type": "code",
   "execution_count": null,
   "metadata": {},
   "outputs": [],
   "source": [
    "plot(duffing_van_der_pol_dx, duffing_van_der_pol_dy)"
   ]
  },
  {
   "cell_type": "code",
   "execution_count": null,
   "metadata": {},
   "outputs": [],
   "source": [
    "##Rayleigh-Duffing oscillator\n",
    "\n",
    "rayleigh_duffling_dx = []\n",
    "rayleigh_duffling_dy = []\n",
    "\n",
    "mu = 0.2\n",
    "rho = 4\n",
    "A = 0.3\n",
    "omega = 1.1\n",
    "x0 = 0.3\n",
    "y0 = 0\n",
    "t0 = 0\n",
    "rayleigh_duffling_dx.append(x0)\n",
    "rayleigh_duffling_dy.append(y0)\n",
    "h = 0.01\n",
    "for i in range(N - 1):\n",
    "    x1 = x0 + h * y0\n",
    "    y1 = y0 + h * (mu * (1 - rho * y0**2) * y0 - x0**3 + A * np.sin(omega * t0))\n",
    "    t1 = t0 + h\n",
    "    rayleigh_duffling_dx.append(x1)\n",
    "    rayleigh_duffling_dy.append(y1)\n",
    "    x0 = x1\n",
    "    y0 = y1\n",
    "    t0 = t1"
   ]
  },
  {
   "cell_type": "code",
   "execution_count": null,
   "metadata": {},
   "outputs": [],
   "source": [
    "plot(rayleigh_duffling_dx, rayleigh_duffling_dy)"
   ]
  },
  {
   "cell_type": "code",
   "execution_count": null,
   "metadata": {},
   "outputs": [],
   "source": [
    "##Lorenz attractor\n",
    "\n",
    "lorenz_attractor_dx = []\n",
    "lorenz_attractor_dy = []\n",
    "lorenz_attractor_dz = []\n",
    "\n",
    "sigma = 10 \n",
    "r = 28\n",
    "b = 8 / float(3)\n",
    "\n",
    "x0 = 0\n",
    "y0 = -0.01\n",
    "z0 = 9\n",
    "h = 0.01\n",
    "\n",
    "lorenz_attractor_dx.append(x0)\n",
    "lorenz_attractor_dy.append(y0)\n",
    "lorenz_attractor_dz.append(z0)\n",
    "for i in range(N - 1):\n",
    "    x1 = x0 + h * sigma * (y0 - x0)\n",
    "    y1 = y0 + h * (-x0 * z0 + r * x0 - y0)\n",
    "    z1 = z0 + h * (x0 * y0 - b * z0)\n",
    "    lorenz_attractor_dx.append(x1)\n",
    "    lorenz_attractor_dy.append(y1)\n",
    "    lorenz_attractor_dz.append(z1)\n",
    "    x0 = x1\n",
    "    y0 = y1 \n",
    "    z0 = z1\n",
    "# lorenz_attractor_dx"
   ]
  },
  {
   "cell_type": "code",
   "execution_count": null,
   "metadata": {},
   "outputs": [],
   "source": [
    "from mpl_toolkits.mplot3d import Axes3D\n",
    "import ipyvolume as pv"
   ]
  },
  {
   "cell_type": "code",
   "execution_count": null,
   "metadata": {},
   "outputs": [],
   "source": [
    "# fig = plt.figure()\n",
    "# ax = fig.gca(projection='3d')\n",
    "# ax.plot(lorenz_attractor_dx, lorenz_attractor_dy, lorenz_attractor_dz)\n",
    "pv.pylab.plot(np.array(lorenz_attractor_dx[0:5000]), np.array(lorenz_attractor_dy[0:5000]), np.array(lorenz_attractor_dy[0:5000]),color=\"black\")\n",
    "# pv.quickscatter(np.array(lorenz_attractor_dx[0:1000]), np.array(lorenz_attractor_dy[0:1000]), np.array(lorenz_attractor_dy[0:1000]), color = \"black\", size=1, marker=\"sphere\")\n",
    "pv.show()"
   ]
  },
  {
   "cell_type": "code",
   "execution_count": null,
   "metadata": {},
   "outputs": [],
   "source": [
    "##Rössler attractor\n",
    "\n",
    "\n",
    "rossler_attractor_dx = []\n",
    "rossler_attractor_dy = []\n",
    "rossler_attractor_dz = []\n",
    "\n",
    "a = b = 0.2\n",
    "c = 5.7\n",
    "x0 = -9\n",
    "y0 = 0\n",
    "z0 = 0\n",
    "h = 0.001\n",
    "\n",
    "rossler_attractor_dx.append(x0)\n",
    "rossler_attractor_dy.append(y0)\n",
    "rossler_attractor_dz.append(z0)\n",
    "\n",
    "for i in range(N - 1):\n",
    "    x1 = x0 + h * (-y0 - z0)\n",
    "    y1 = y0 + h * (x0 + a * y0)\n",
    "    z1 = z0 + h * (b + z0 * (x0 - c))\n",
    "    rossler_attractor_dx.append(x1)\n",
    "    rossler_attractor_dy.append(y1)\n",
    "    rossler_attractor_dz.append(z1)\n",
    "    x0 = x1\n",
    "    y0 = y1\n",
    "    z0 = z1\n",
    "# rossler_attractor_dx"
   ]
  },
  {
   "cell_type": "code",
   "execution_count": null,
   "metadata": {},
   "outputs": [],
   "source": [
    "# fig = plt.figure()\n",
    "# ax = fig.gca(projection='3d')\n",
    "# ax.plot(rossler_attractor_dx, rossler_attractor_dy, rossler_attractor_dz)\n",
    "maximo = 20000\n",
    "pv.pylab.plot(np.array(rossler_attractor_dx[0:maximo]), np.array(rossler_attractor_dy[0:maximo]), np.array(rossler_attractor_dz[0:maximo]),color=\"black\")\n",
    "pv.show()"
   ]
  },
  {
   "cell_type": "code",
   "execution_count": null,
   "metadata": {},
   "outputs": [],
   "source": [
    "##Diffusionless Lorenz attractor\n",
    "\n",
    "\n",
    "diffusionless_lorenz_attractor_dx = []\n",
    "diffusionless_lorenz_attractor_dy = []\n",
    "diffusionless_lorenz_attractor_dz = []\n",
    "\n",
    "R = 1\n",
    "x0 = 1\n",
    "y0 = -1\n",
    "z0 = 0.01\n",
    "diffusionless_lorenz_attractor_dx.append(x0)\n",
    "diffusionless_lorenz_attractor_dy.append(y0)\n",
    "diffusionless_lorenz_attractor_dz.append(z0)\n",
    "h = 0.01\n",
    "for i in range(N - 1):\n",
    "    x1 = x0 + h * (-y0 - x0)\n",
    "    y1 = y0 + h * (-x0 * z0)\n",
    "    z1 = z0 + h * (x0 * y0 + R)\n",
    "    diffusionless_lorenz_attractor_dx.append(x1)\n",
    "    diffusionless_lorenz_attractor_dy.append(y1)\n",
    "    diffusionless_lorenz_attractor_dz.append(z1)\n",
    "    x0 = x1\n",
    "    y0 = y1\n",
    "    z0 = z1\n",
    "print(diffusionless_lorenz_attractor_dx)"
   ]
  },
  {
   "cell_type": "code",
   "execution_count": null,
   "metadata": {},
   "outputs": [],
   "source": [
    "fig = plt.figure()\n",
    "ax = fig.gca(projection='3d')\n",
    "ax.plot(diffusionless_lorenz_attractor_dx, diffusionless_lorenz_attractor_dy, diffusionless_lorenz_attractor_dz)"
   ]
  },
  {
   "cell_type": "code",
   "execution_count": null,
   "metadata": {},
   "outputs": [],
   "source": [
    "##Complex butterfly\n",
    "\n",
    "def sgn(x):\n",
    "    if x > 0:\n",
    "        return 1\n",
    "    elif x == 0:\n",
    "        return 0\n",
    "    elif x < 0:\n",
    "        return -1\n",
    "\n",
    "complex_butterfly_dx = []\n",
    "complex_butterfly_dy = []\n",
    "complex_butterfly_dz = []\n",
    "\n",
    "a = 0.55\n",
    "x0 = 0.2\n",
    "y0 = z0 = 0\n",
    "\n",
    "complex_butterfly_dx.append(x0)\n",
    "complex_butterfly_dy.append(y0)\n",
    "complex_butterfly_dz.append(z0)\n",
    "\n",
    "h = 0.01\n",
    "for i in range(N - 1):\n",
    "    x1 = x0 + h * a * (y0 - z0)\n",
    "    y1 = y0 + h * (-z0 * sgn(x0))\n",
    "    z1 = z0 + h * (np.abs(x0) - 1)\n",
    "    complex_butterfly_dx.append(x1)\n",
    "    complex_butterfly_dy.append(y1)\n",
    "    complex_butterfly_dz.append(z1)\n",
    "    x0 = x1\n",
    "    y0 = y1\n",
    "    z0 = z1\n"
   ]
  },
  {
   "cell_type": "code",
   "execution_count": null,
   "metadata": {},
   "outputs": [],
   "source": [
    "#fig = plt.figure()\n",
    "#ax = fig.gca(projection='3d')\n",
    "#ax.plot(complex_butterfly_dx, complex_butterfly_dy, complex_butterfly_dz)\n",
    "plot(complex_butterfly_dx, complex_butterfly_dy)"
   ]
  },
  {
   "cell_type": "code",
   "execution_count": null,
   "metadata": {},
   "outputs": [],
   "source": [
    "##Chen's system\n",
    "\n",
    "chen_system_dx = []\n",
    "chen_system_dy = []\n",
    "chen_system_dz = []\n",
    "\n",
    "a = 35\n",
    "b = 3\n",
    "c = 28\n",
    "x0 = -10\n",
    "y0 = 0\n",
    "z0 = 37\n",
    "\n",
    "h = 0.001\n",
    "chen_system_dx.append(x0)\n",
    "chen_system_dy.append(y0)\n",
    "chen_system_dz.append(z0)\n",
    "for i in range(N - 1):\n",
    "    x1 = x0 + h * a * (y0 - x0)\n",
    "    y1 = y0 + h * ((c - a) * x0 - x0 * z0 + c * y0)\n",
    "    z1 = z0 + h * (x0 * y0 - b * z0)\n",
    "    chen_system_dx.append(x1)\n",
    "    chen_system_dy.append(y1)\n",
    "    chen_system_dz.append(z1)\n",
    "    x0 = x1\n",
    "    y0 = y1\n",
    "    z0 = z1\n",
    "#     print(x0,y0,z0)\n"
   ]
  },
  {
   "cell_type": "code",
   "execution_count": null,
   "metadata": {},
   "outputs": [],
   "source": [
    "# fig = plt.figure()\n",
    "# ax = fig.gca(projection='3d')\n",
    "# ax.plot(chen_system_dx, chen_system_dy, chen_system_dz)\n",
    "\n",
    "maximo = 20000\n",
    "pv3 = pv\n",
    "pv3.pylab.plot(np.array(chen_system_dx[0:maximo]), np.array(chen_system_dy[0:maximo]), np.array(chen_system_dz[0:maximo]),color=\"black\")\n",
    "pv3.show()"
   ]
  },
  {
   "cell_type": "code",
   "execution_count": null,
   "metadata": {},
   "outputs": [],
   "source": [
    "##Hadley circulation\n",
    "\n",
    "hadley_circulation_dx = []\n",
    "hadley_circulation_dy = []\n",
    "hadley_circulation_dz = []\n",
    "\n",
    "a = 0.25\n",
    "b = 4\n",
    "F = 8\n",
    "G = 1\n",
    "x0 = 0\n",
    "y0 = 0\n",
    "z0 = 1.3\n",
    "\n",
    "h = 0.001\n",
    "\n",
    "hadley_circulation_dx.append(x0)\n",
    "hadley_circulation_dy.append(y0)\n",
    "hadley_circulation_dz.append(z0)\n",
    "\n",
    "for i in range(N - 1):\n",
    "    x1 = x0 + h * (-y0**2 - z0**2 - a * x0 + a * F)\n",
    "    y1 = y0 + h * (x0 * y0 - b * x0 * z0 - y0 + G)\n",
    "    z1 = z0 + h * (b * x0 * y0 + x0 * z0 - z0)\n",
    "    hadley_circulation_dx.append(x1)\n",
    "    hadley_circulation_dy.append(y1)\n",
    "    hadley_circulation_dz.append(z1)\n",
    "    x0 = x1\n",
    "    y0 = y1\n",
    "    z0 = z1"
   ]
  },
  {
   "cell_type": "code",
   "execution_count": null,
   "metadata": {},
   "outputs": [],
   "source": [
    "fig = plt.figure()\n",
    "ax = fig.gca(projection='3d')\n",
    "ax.plot(hadley_circulation_dx, hadley_circulation_dy, hadley_circulation_dz)"
   ]
  },
  {
   "cell_type": "code",
   "execution_count": null,
   "metadata": {},
   "outputs": [],
   "source": [
    "##ACT attractor\n",
    "\n",
    "ACT_attractor_dx = []\n",
    "ACT_attractor_dy = []\n",
    "ACT_attractor_dz = []\n",
    "\n",
    "alpha = 1.8\n",
    "beta = -0.07\n",
    "sigma = 1.5\n",
    "mu = 0.02\n",
    "\n",
    "x0 = 0.5\n",
    "y0 = 0\n",
    "z0 = 0\n",
    "\n",
    "h = 0.01\n",
    "ACT_attractor_dx.append(x0)\n",
    "ACT_attractor_dy.append(y0)\n",
    "ACT_attractor_dz.append(z0)\n",
    "\n",
    "for i in range(N - 1):\n",
    "    x1 = x0 + h * (alpha * (x0 - y0))\n",
    "    y1 = y0 + h * (-4 * alpha * y0 + x0 * z0 + mu * x0**3)\n",
    "    z1 = z0 + h * (-sigma * alpha * z0 + x0 * y0 + beta * z0**2)\n",
    "    ACT_attractor_dx.append(x1)\n",
    "    ACT_attractor_dy.append(y1)\n",
    "    ACT_attractor_dz.append(z1)\n",
    "    x0 = x1\n",
    "    y0 = y1\n",
    "    z0 = z1"
   ]
  },
  {
   "cell_type": "code",
   "execution_count": null,
   "metadata": {},
   "outputs": [],
   "source": [
    "fig = plt.figure()\n",
    "ax = fig.gca(projection='3d')\n",
    "ax.plot(ACT_attractor_dx, ACT_attractor_dy, ACT_attractor_dz)"
   ]
  },
  {
   "cell_type": "code",
   "execution_count": null,
   "metadata": {},
   "outputs": [],
   "source": [
    "##Rabinovich-Fabrikant attractor\n",
    "\n",
    "rabinovich_fabrikant_dx = []\n",
    "rabinovich_fabrikant_dy = []\n",
    "rabinovich_fabrikant_dz = []\n",
    "\n",
    "rho = 0.87\n",
    "alpha = 1.1\n",
    "\n",
    "x0 = -1\n",
    "y0 = 0\n",
    "z0 = 0.5\n",
    "\n",
    "rabinovich_fabrikant_dx.append(x0)\n",
    "rabinovich_fabrikant_dy.append(y0)\n",
    "rabinovich_fabrikant_dz.append(z0)\n",
    "h = 0.001\n",
    "\n",
    "for i in range(N - 1):\n",
    "    x1 = x0 + h * (y0 * (z0 - 1 + x0**2) + rho * x0)\n",
    "    y1 = y0 + h * (x0 * (3 * z0 + 1 - x0**2) + rho * y0)\n",
    "    z1 = z0 + h * (-2 * z0 * (alpha + x0 * y0))\n",
    "    rabinovich_fabrikant_dx.append(x1)\n",
    "    rabinovich_fabrikant_dy.append(y1)\n",
    "    rabinovich_fabrikant_dz.append(z1)\n",
    "    x0 = x1\n",
    "    y0 = y1\n",
    "    z0 = z1"
   ]
  },
  {
   "cell_type": "code",
   "execution_count": null,
   "metadata": {},
   "outputs": [],
   "source": [
    "#fig = plt.figure()\n",
    "#ax = fig.gca(projection='3d')\n",
    "#ax.plot(rabinovich_fabrikant_dz, rabinovich_fabrikant_dy, rabinovich_fabrikant_dx)\n",
    "plot(rabinovich_fabrikant_dx, rabinovich_fabrikant_dy)"
   ]
  },
  {
   "cell_type": "code",
   "execution_count": null,
   "metadata": {},
   "outputs": [],
   "source": [
    "##Linear feedback rigid body motion system\n",
    "\n",
    "linear_feedback_dx = []\n",
    "linear_feedback_dy = []\n",
    "linear_feedback_dz = []\n",
    "\n",
    "alpha = 0.175\n",
    "x0 = 0.6\n",
    "y0 = 0\n",
    "z0 = 0\n",
    "\n",
    "linear_feedback_dx.append(x0)\n",
    "linear_feedback_dy.append(y0)\n",
    "linear_feedback_dz.append(z0)\n",
    "\n",
    "h = 0.001\n",
    "for i in range(N - 1):\n",
    "    x1 = x0 + h * (-0.4 * x0 + y0 + 10 * y0 * z0)\n",
    "    y1 = y0 + h * (-x0 - 0.4 * y0 + 5 * x0 * y0)\n",
    "    z1 = z0 + h * (alpha * z0 - 5 * x0 * y0)\n",
    "    linear_feedback_dx.append(x1)\n",
    "    linear_feedback_dy.append(y1)\n",
    "    linear_feedback_dz.append(z1)\n",
    "    x0 = x1\n",
    "    y0 = y1\n",
    "    z0 = z1"
   ]
  },
  {
   "cell_type": "code",
   "execution_count": null,
   "metadata": {},
   "outputs": [],
   "source": [
    "#fig = plt.figure()\n",
    "#ax = fig.gca(projection='3d')\n",
    "#ax.plot(linear_feedback_dx, linear_feedback_dy, linear_feedback_dz)\n",
    "plot(linear_feedback_dy, linear_feedback_dx)"
   ]
  },
  {
   "cell_type": "code",
   "execution_count": null,
   "metadata": {},
   "outputs": [],
   "source": [
    "##Chua's circuit\n",
    "\n",
    "chua_circuit_dx = []\n",
    "chua_circuit_dy = []\n",
    "chua_circuit_dz = []\n",
    "\n",
    "alpha = 9\n",
    "beta = 100 / float(7)\n",
    "a = 8 / float(7)\n",
    "b = 5 / float(7)\n",
    "x0 = 0\n",
    "y0 = 0\n",
    "z0 = 0.6\n",
    "\n",
    "chua_circuit_dx.append(x0)\n",
    "chua_circuit_dy.append(y0)\n",
    "chua_circuit_dz.append(z0)\n",
    "\n",
    "h = 0.01\n",
    "for i in range(N - 1):\n",
    "    x1 = x0 + h * (alpha * (y0 - x0 + b * x0 + 0.5 * (a - b) * (np.abs(x0 + 1) - np.abs(x0 - 1))))\n",
    "    y1 = y0 + h * (x0 - y0 + z0)\n",
    "    z1 = z0 + h * (-beta * y0)\n",
    "    chua_circuit_dx.append(x1)\n",
    "    chua_circuit_dy.append(y1)\n",
    "    chua_circuit_dz.append(z1)\n",
    "    x0 = x1\n",
    "    y0 = y1\n",
    "    z0 = z1"
   ]
  },
  {
   "cell_type": "code",
   "execution_count": null,
   "metadata": {},
   "outputs": [],
   "source": [
    "fig = plt.figure()\n",
    "ax = fig.gca(projection='3d')\n",
    "ax.plot(chua_circuit_dx, chua_circuit_dy, chua_circuit_dz)"
   ]
  },
  {
   "cell_type": "code",
   "execution_count": null,
   "metadata": {},
   "outputs": [],
   "source": [
    "##Moore-Spiegel oscillator\n",
    "\n",
    "\n",
    "moore_spiegel_oscillator_dx = []\n",
    "moore_spiegel_oscillator_dy = []\n",
    "moore_spiegel_oscillator_dz = []\n",
    "\n",
    "T = 6\n",
    "R = 20\n",
    "x0 = 0.1\n",
    "y0 = 0\n",
    "z0 = 0\n",
    "\n",
    "moore_spiegel_oscillator_dx.append(x0)\n",
    "moore_spiegel_oscillator_dy.append(y0)\n",
    "moore_spiegel_oscillator_dz.append(z0)\n",
    "\n",
    "h = 0.0025\n",
    "for i in range(50000 - 1):\n",
    "    x1 = x0 + h * y0\n",
    "    y1 = y0 + h * z0\n",
    "    z1 = z0 + h * (-z0 - (T - R + R * x0**2) * y0 - T + x0)\n",
    "    moore_spiegel_oscillator_dx.append(x1)\n",
    "    moore_spiegel_oscillator_dy.append(y1)\n",
    "    moore_spiegel_oscillator_dz.append(z1)\n",
    "    x0 = x1\n",
    "    y0 = y1\n",
    "    z0 = z1"
   ]
  },
  {
   "cell_type": "code",
   "execution_count": null,
   "metadata": {},
   "outputs": [],
   "source": [
    "#fig = plt.figure()\n",
    "#ax = fig.gca(projection='3d')\n",
    "#ax.plot(moore_spiegel_oscillator_dx, moore_spiegel_oscillator_dy, moore_spiegel_oscillator_dz)\n",
    "plot(moore_spiegel_oscillator_dx, moore_spiegel_oscillator_dy)"
   ]
  },
  {
   "cell_type": "code",
   "execution_count": null,
   "metadata": {},
   "outputs": [],
   "source": [
    "##Thomas' cyclically symmetric attractor\n",
    "\n",
    "thomas_attractor_dx = []\n",
    "thomas_attractor_dy = []\n",
    "thomas_attractor_dz = []\n",
    "\n",
    "b = 0.18\n",
    "x0 = 0.1\n",
    "y0 = 0\n",
    "z0 = 0\n",
    "\n",
    "thomas_attractor_dx.append(x0)\n",
    "thomas_attractor_dy.append(y0)\n",
    "thomas_attractor_dz.append(z0)\n",
    "\n",
    "h = 0.01\n",
    "for i in range(N - 1):\n",
    "    x1 = x0 + h * (-b * x0 + np.sin(y0))\n",
    "    y1 = y0 + h * (-b * y0 + np.sin(z0))\n",
    "    z1 = z0 + h * (-b * z0 + np.sin(x0))\n",
    "    \n",
    "    thomas_attractor_dx.append(x1)\n",
    "    thomas_attractor_dy.append(y1)\n",
    "    thomas_attractor_dz.append(z1)\n",
    "    \n",
    "    x0 = x1\n",
    "    y0 = y1\n",
    "    z0 = z1"
   ]
  },
  {
   "cell_type": "code",
   "execution_count": null,
   "metadata": {},
   "outputs": [],
   "source": [
    "fig = plt.figure()\n",
    "ax = fig.gca(projection='3d')\n",
    "ax.plot(thomas_attractor_dx, thomas_attractor_dy, thomas_attractor_dz)\n",
    "#plot(moore_spiegel_oscillator_dx, moore_spiegel_oscillator_dy)"
   ]
  },
  {
   "cell_type": "code",
   "execution_count": null,
   "metadata": {},
   "outputs": [],
   "source": [
    "##Halvorsen's cyclically symmetric attractor\n",
    "\n",
    "halvorsen_attractor_dx = []\n",
    "halvorsen_attractor_dy = []\n",
    "halvorsen_attractor_dz = []\n",
    "\n",
    "a = 1.27\n",
    "x0 = -5\n",
    "y0 = 0\n",
    "z0 = 0\n",
    "\n",
    "halvorsen_attractor_dx.append(x0)\n",
    "halvorsen_attractor_dy.append(y0)\n",
    "halvorsen_attractor_dz.append(z0)\n",
    "\n",
    "h = 0.001\n",
    "for i in range(N - 1):\n",
    "    x1 = x0 + h * (-a * x0 - 4 * y0 - 4 * z0 - y0**2)\n",
    "    y1 = y0 + h * (-a * y0 - 4 * z0 - 4 * x0 - z0**2)\n",
    "    z1 = z0 + h * (-a * z0 - 4 * x0 - 4 * y0 - x0**2)\n",
    "    \n",
    "    halvorsen_attractor_dx.append(x1)\n",
    "    halvorsen_attractor_dy.append(y1)\n",
    "    halvorsen_attractor_dz.append(z0)\n",
    "    \n",
    "    x0 = x1\n",
    "    y0 = y1\n",
    "    z0 = z1\n",
    "# print(halvorsen_attractor_dx)"
   ]
  },
  {
   "cell_type": "code",
   "execution_count": null,
   "metadata": {},
   "outputs": [],
   "source": [
    "# fig = plt.figure()\n",
    "# ax = fig.gca(projection='3d')\n",
    "# ax.plot(halvorsen_attractor_dx, halvorsen_attractor_dy, halvorsen_attractor_dz)\n",
    "maximo = 20000\n",
    "pv3 = pv\n",
    "pv3.pylab.plot(np.array(halvorsen_attractor_dx[0:maximo]), np.array(halvorsen_attractor_dy[0:maximo]), np.array(halvorsen_attractor_dz[0:maximo]),color=\"black\")\n",
    "pv3.show()"
   ]
  },
  {
   "cell_type": "code",
   "execution_count": null,
   "metadata": {},
   "outputs": [],
   "source": [
    "##Burke-Shaw attractor\n",
    "\n",
    "burke_shaw_dx = []\n",
    "burke_shaw_dy = []\n",
    "burke_shaw_dz = []\n",
    "\n",
    "U = 10\n",
    "V = 13#4.272\n",
    "x0 = 0.6\n",
    "y0 = 0\n",
    "z0 = 0\n",
    "\n",
    "burke_shaw_dx.append(x0)\n",
    "burke_shaw_dy.append(y0)\n",
    "burke_shaw_dz.append(z0)\n",
    "\n",
    "h = 0.001\n",
    "for i in range(N - 1):\n",
    "    x1 = x0 + h * (-U * (x0 + y0))\n",
    "    y1 = y0 + h * (-U * x0 * z0 - y0)\n",
    "    z1 = z0 + h * (U * x0 * y0 + V)\n",
    "    \n",
    "    burke_shaw_dx.append(x1)\n",
    "    burke_shaw_dy.append(y1)\n",
    "    burke_shaw_dz.append(z1)\n",
    "    \n",
    "    x0 = x1\n",
    "    y0 = y1\n",
    "    z0 = z1"
   ]
  },
  {
   "cell_type": "code",
   "execution_count": null,
   "metadata": {},
   "outputs": [],
   "source": [
    "#fig = plt.figure()\n",
    "#ax = fig.gca(projection='3d')\n",
    "#ax.plot(burke_shaw_dx, burke_shaw_dy, burke_shaw_dz)\n",
    "plot(burke_shaw_dx, burke_shaw_dy)"
   ]
  },
  {
   "cell_type": "code",
   "execution_count": null,
   "metadata": {},
   "outputs": [],
   "source": [
    "##Rucklidge attractor\n",
    "\n",
    "rucklidge_attractor_dx = []\n",
    "rucklidge_attractor_dy = []\n",
    "rucklidge_attractor_dz = []\n",
    "\n",
    "k = 2\n",
    "l = 6.7\n",
    "x0 = 1\n",
    "y0 = 0\n",
    "z0 = 4.5\n",
    "\n",
    "rucklidge_attractor_dx.append(x0)\n",
    "rucklidge_attractor_dy.append(y0)\n",
    "rucklidge_attractor_dz.append(z0)\n",
    "\n",
    "h = 0.01\n",
    "for i in range(N - 1):\n",
    "    x1 = x0 + h * (-k * x0 + l * y0 - y0 * z0)\n",
    "    y1 = y0 + h * x0\n",
    "    z1 = z0 + h * (-z0 + y0**2)\n",
    "    \n",
    "    rucklidge_attractor_dx.append(x1)\n",
    "    rucklidge_attractor_dy.append(y1)\n",
    "    rucklidge_attractor_dz.append(z1)\n",
    "    \n",
    "    x0 = x1 \n",
    "    y0 = y1\n",
    "    z0 = z1\n",
    "# print(rucklidge_attractor_dx)"
   ]
  },
  {
   "cell_type": "code",
   "execution_count": null,
   "metadata": {},
   "outputs": [],
   "source": [
    "plot(np.arange(20000), rucklidge_attractor_dy[0:20000])\n",
    "# pv2 = pv\n",
    "# maximo = 20000\n",
    "# pv2.pylab.plot(np.arange(maximo), np.array(rucklidge_attractor_dx[0:maximo]), color=\"black\")\n",
    "# pv2.show()"
   ]
  },
  {
   "cell_type": "code",
   "execution_count": null,
   "metadata": {},
   "outputs": [],
   "source": [
    "##WINDMI attractor\n",
    "\n",
    "windmi_attractor_dx = []\n",
    "windmi_attractor_dy = []\n",
    "windmi_attractor_dz = []\n",
    "\n",
    "a = 0.7\n",
    "b = 2.5\n",
    "x0 = 0\n",
    "y0 = 0.8\n",
    "z0 = 0\n",
    "\n",
    "windmi_attractor_dx.append(x0)\n",
    "windmi_attractor_dy.append(y0)\n",
    "windmi_attractor_dz.append(z0)\n",
    "\n",
    "h = 0.01\n",
    "for i in range(N - 1):\n",
    "    x1 = x0 + h * y0\n",
    "    y1 = y0 + h * z0\n",
    "    z1 = z0 + h * (-a * z0 - y0 + b - np.exp(x0))\n",
    "    \n",
    "    windmi_attractor_dx.append(x1)\n",
    "    windmi_attractor_dy.append(y1)\n",
    "    windmi_attractor_dz.append(z1)\n",
    "    \n",
    "    x0 = x1\n",
    "    y0 = y1\n",
    "    z0 = z1"
   ]
  },
  {
   "cell_type": "code",
   "execution_count": null,
   "metadata": {},
   "outputs": [],
   "source": [
    "plot(windmi_attractor_dx, windmi_attractor_dy)\n"
   ]
  },
  {
   "cell_type": "code",
   "execution_count": null,
   "metadata": {},
   "outputs": [],
   "source": [
    "##Simplest quadratic chaotic flow\n",
    "\n",
    "simplest_quadratic_dx = []\n",
    "simplest_quadratic_dy = []\n",
    "simplest_quadratic_dz = []\n",
    "\n",
    "a = 2.017\n",
    "x0 = -0.9\n",
    "y0 = 0\n",
    "z0 = 0.5\n",
    "\n",
    "simplest_quadratic_dx.append(x0)\n",
    "simplest_quadratic_dy.append(y0)\n",
    "simplest_quadratic_dz.append(z0)\n",
    "\n",
    "h = 0.01\n",
    "for i in range(N - 1):\n",
    "    x1 = x0 + h * y0\n",
    "    y1 = y0 + h * z0\n",
    "    z1 = z0 + h * (-a * z0 + y0**2 - x0)\n",
    "    \n",
    "    simplest_quadratic_dx.append(x1)\n",
    "    simplest_quadratic_dy.append(y1)\n",
    "    simplest_quadratic_dz.append(z1)\n",
    "    \n",
    "    x0 = x1\n",
    "    y0 = y1\n",
    "    z0 = z1"
   ]
  },
  {
   "cell_type": "code",
   "execution_count": null,
   "metadata": {},
   "outputs": [],
   "source": [
    "plot(simplest_quadratic_dx, simplest_quadratic_dy)"
   ]
  },
  {
   "cell_type": "code",
   "execution_count": null,
   "metadata": {},
   "outputs": [],
   "source": [
    "##Simplest cubic chaotic flow\n",
    "\n",
    "\n",
    "simplest_cubic_dx = []\n",
    "simplest_cubic_dy = []\n",
    "simplest_cubic_dz = []\n",
    "\n",
    "a = 2.028\n",
    "x0 = 0\n",
    "y0 = 0.96\n",
    "z0 = 0\n",
    "\n",
    "simplest_cubic_dx.append(x0)\n",
    "simplest_cubic_dy.append(y0)\n",
    "simplest_cubic_dz.append(z0)\n",
    "\n",
    "h = 0.01\n",
    "for i in range(N - 1):\n",
    "    x1 = x0 + h * y0\n",
    "    y1 = y0 + h * z0\n",
    "    z1 = z0 + h * (-a * z0 + x0 * y0**2 - x0)\n",
    "    \n",
    "    simplest_cubic_dx.append(x1)\n",
    "    simplest_cubic_dy.append(y1)\n",
    "    simplest_cubic_dz.append(z1)\n",
    "    \n",
    "    x0 = x1\n",
    "    y0 = y1\n",
    "    z0 = z1\n",
    "# simplest_cubic_dx"
   ]
  },
  {
   "cell_type": "code",
   "execution_count": null,
   "metadata": {},
   "outputs": [],
   "source": [
    "# plot(simplest_cubic_dx, simplest_cubic_dy)\n",
    "maximo = 20000\n",
    "pv3 = pv\n",
    "pv3.pylab.plot(np.array(simplest_cubic_dx[0:maximo]), np.array(simplest_cubic_dy[0:maximo]), np.array(simplest_cubic_dz[0:maximo]),color=\"black\")\n",
    "pv3.show()"
   ]
  },
  {
   "cell_type": "code",
   "execution_count": 2,
   "metadata": {},
   "outputs": [],
   "source": [
    "##Simplest piecewise linear chaotic flow\n",
    "\n",
    "\n",
    "simplest_linear_dx = []\n",
    "simplest_linear_dy = []\n",
    "simplest_linear_dz = []\n",
    "\n",
    "a = 0.6\n",
    "x0 = 0\n",
    "y0 = -0.7\n",
    "z0 = 0\n",
    "\n",
    "simplest_linear_dx.append(x0)\n",
    "simplest_linear_dy.append(y0)\n",
    "simplest_linear_dz.append(z0)\n",
    "\n",
    "h = 0.01\n",
    "for i in range(N - 1):\n",
    "    x1 = x0 + h * y0\n",
    "    y1 = y0 + h * z0\n",
    "    z1 = z0 + h * (-a * z0 - y0 + np.abs(x0) - 1)\n",
    "    \n",
    "    simplest_linear_dx.append(x1)\n",
    "    simplest_linear_dy.append(y1)\n",
    "    simplest_linear_dz.append(z1)\n",
    "    \n",
    "    x0 = x1\n",
    "    y0 = y1\n",
    "    z0 = z1\n",
    "# simplest_linear_dx"
   ]
  },
  {
   "cell_type": "code",
   "execution_count": 3,
   "metadata": {},
   "outputs": [
    {
     "data": {
      "application/vnd.jupyter.widget-view+json": {
       "model_id": "fe55a054eb4246db84334913974a980d",
       "version_major": 2,
       "version_minor": 0
      },
      "text/plain": [
       "VBox(children=(Figure(camera_center=[0.0, 0.0, 0.0], height=500, matrix_projection=[0.0, 0.0, 0.0, 0.0, 0.0, 0…"
      ]
     },
     "metadata": {},
     "output_type": "display_data"
    }
   ],
   "source": [
    "# plot(simplest_linear_dx, simplest_linear_dy)\n",
    "maximo = 20000\n",
    "pv3 = pv\n",
    "pv3.pylab.plot(np.array(simplest_linear_dx[0:maximo]), np.array(simplest_linear_dy[0:maximo]), np.array(simplest_linear_dz[0:maximo]),color=\"black\")\n",
    "pv3.show()"
   ]
  },
  {
   "cell_type": "code",
   "execution_count": null,
   "metadata": {},
   "outputs": [],
   "source": [
    "##Double scroll\n",
    "\n",
    "double_scroll_dx = []\n",
    "double_scroll_dy = []\n",
    "double_scroll_dz = []\n",
    "\n",
    "a = 0.8\n",
    "x0 = 0.01\n",
    "y0 = 0.01\n",
    "z0 = 0\n",
    "\n",
    "double_scroll_dx.append(x0)\n",
    "double_scroll_dy.append(y0)\n",
    "double_scroll_dz.append(z0)\n",
    "\n",
    "h = 0.01\n",
    "for i in range(N - 1):\n",
    "    x1 = x0 + h * y0\n",
    "    y1 = y0 + h * z0 \n",
    "    z1 = z0 + h * (- a * (z0 + y0 + x0 - sgn(x0)))\n",
    "    \n",
    "    double_scroll_dx.append(x1)\n",
    "    double_scroll_dy.append(y1)\n",
    "    double_scroll_dz.append(z1)\n",
    "    \n",
    "    x0 = x1\n",
    "    y0 = y1\n",
    "    z0 = z1"
   ]
  },
  {
   "cell_type": "code",
   "execution_count": null,
   "metadata": {},
   "outputs": [],
   "source": [
    "plot(double_scroll_dx, double_scroll_dy)"
   ]
  },
  {
   "cell_type": "code",
   "execution_count": null,
   "metadata": {},
   "outputs": [],
   "source": [
    "##Driven pendulum\n",
    "\n",
    "driven_pendulum_dx = []\n",
    "driven_pendulum_dy = []\n",
    "\n",
    "A = 1.0\n",
    "omega = 0.5\n",
    "x0 = 0\n",
    "y0 = 0\n",
    "t0 = 0\n",
    "\n",
    "driven_pendulum_dx.append(x0)\n",
    "driven_pendulum_dy.append(y0)\n",
    "\n",
    "h = 1\n",
    "for i in range(N - 1):\n",
    "    x1 = x0 + h * y0\n",
    "    y1 = y0 + h * (-np.sin(x0) + A * np.sin(omega * t0))\n",
    "    t1 = t0 + h\n",
    "    \n",
    "    driven_pendulum_dx.append(x1)\n",
    "    driven_pendulum_dy.append(y1)\n",
    "    \n",
    "    x0 = x1\n",
    "    y0 = y1\n",
    "    t0 = t1"
   ]
  },
  {
   "cell_type": "code",
   "execution_count": null,
   "metadata": {},
   "outputs": [],
   "source": [
    "plot(driven_pendulum_dx, driven_pendulum_dy)"
   ]
  },
  {
   "cell_type": "code",
   "execution_count": null,
   "metadata": {},
   "outputs": [],
   "source": [
    "##Simplest driven chaotic flow\n",
    "\n",
    "simplest_driven_chaotic_flow_dx = []\n",
    "simplest_driven_chaotic_flow_dy = []\n",
    "\n",
    "omega = 1.88\n",
    "x0 = 0\n",
    "y0 = 0\n",
    "t0 = 0\n",
    "\n",
    "simplest_driven_chaotic_flow_dx.append(x0)\n",
    "simplest_driven_chaotic_flow_dy.append(y0)\n",
    "\n",
    "h = 0.001\n",
    "for i in range(N - 1):\n",
    "    x1 = x0 + h * y0\n",
    "    y1 = y0 + h * (-x0**3 + np.sin(omega * t0))\n",
    "    t1 = t0 + h\n",
    "    simplest_driven_chaotic_flow_dx.append(x1)\n",
    "    simplest_driven_chaotic_flow_dy.append(y1)\n",
    "    x0 = x1\n",
    "    y0 = y1\n",
    "    t0 = t1"
   ]
  },
  {
   "cell_type": "code",
   "execution_count": null,
   "metadata": {},
   "outputs": [],
   "source": [
    "plot(simplest_driven_chaotic_flow_dx, simplest_driven_chaotic_flow_dy)"
   ]
  },
  {
   "cell_type": "code",
   "execution_count": null,
   "metadata": {},
   "outputs": [],
   "source": [
    "##Nosé-Hoover oscillator\n",
    "\n",
    "nose_hoover_dx = []\n",
    "nose_hoover_dy = []\n",
    "nose_hoover_dz = []\n",
    "\n",
    "a = 1\n",
    "x0 = 0\n",
    "y0 = 5\n",
    "z0 = 0\n",
    "\n",
    "nose_hoover_dx.append(x0)\n",
    "nose_hoover_dy.append(y0)\n",
    "nose_hoover_dz.append(z0)\n",
    "\n",
    "h = 0.01\n",
    "for i in range(N - 1):\n",
    "    x1 = x0 + h * y0\n",
    "    y1 = y0 + h * (-x0 + y0 * z0)\n",
    "    z1 = z0 + h * (a - y0**2)\n",
    "    \n",
    "    nose_hoover_dx.append(x1)\n",
    "    nose_hoover_dy.append(y1)\n",
    "    nose_hoover_dz.append(z1)\n",
    "    \n",
    "    x0 = x1\n",
    "    y0 = y1\n",
    "    z0 = z1"
   ]
  },
  {
   "cell_type": "code",
   "execution_count": null,
   "metadata": {},
   "outputs": [],
   "source": [
    "plot(nose_hoover_dx, nose_hoover_dy)"
   ]
  },
  {
   "cell_type": "code",
   "execution_count": null,
   "metadata": {},
   "outputs": [],
   "source": [
    "##Labyrinth chaos\n",
    "\n",
    "labyrinth_dx = []\n",
    "labyrinth_dy = []\n",
    "labyrinth_dz = []\n",
    "\n",
    "x0 = 0.1\n",
    "y0 = 0\n",
    "z0 = 0\n",
    "\n",
    "labyrinth_dx.append(x0)\n",
    "labyrinth_dy.append(y0)\n",
    "labyrinth_dz.append(z0)\n",
    "\n",
    "h = 0.1\n",
    "for i in range(N - 1):\n",
    "    x1 = x0 + h * (np.sin(y0))\n",
    "    y1 = y0 + h * (np.sin(z0))\n",
    "    z1 = z0 + h * (np.sin(x0))\n",
    "    \n",
    "    labyrinth_dx.append(x1)\n",
    "    labyrinth_dy.append(y1)\n",
    "    labyrinth_dz.append(z1)\n",
    "    x0 = x1\n",
    "    y0 = y1\n",
    "    z0 = z1"
   ]
  },
  {
   "cell_type": "code",
   "execution_count": null,
   "metadata": {},
   "outputs": [],
   "source": [
    "plot(labyrinth_dx, labyrinth_dy)"
   ]
  },
  {
   "cell_type": "code",
   "execution_count": null,
   "metadata": {},
   "outputs": [],
   "source": [
    "##Hénon-Heiles system\n",
    "\n",
    "henon_heiles_dx = []\n",
    "henon_heiles_dy = []\n",
    "henon_heiles_dv = []\n",
    "henon_heiles_dw = []\n",
    "\n",
    "x0 = 0.499\n",
    "y0 = 0\n",
    "v0 = 0\n",
    "w0 = 0.03160676\n",
    "\n",
    "henon_heiles_dx.append(x0)\n",
    "henon_heiles_dy.append(y0)\n",
    "henon_heiles_dv.append(v0)\n",
    "henon_heiles_dw.append(w0)\n",
    "\n",
    "h = 0.001\n",
    "for i in range(N - 1):\n",
    "    x1 = x0 + h * v0\n",
    "    y1 = y0 + h * w0\n",
    "    v1 = v0 + h * (-x0 - 2 * x0 * y0)\n",
    "    w1 = w0 + h * (-y0 - x0**2 + y0**2)\n",
    "    \n",
    "    henon_heiles_dx.append(x1)\n",
    "    henon_heiles_dy.append(y1)\n",
    "    henon_heiles_dv.append(v1)\n",
    "    henon_heiles_dw.append(w1)\n",
    "    \n",
    "    x0 = x1\n",
    "    y0 = y1\n",
    "    v0 = v1\n",
    "    w0 = w1\n",
    "henon_heiles_dx"
   ]
  },
  {
   "cell_type": "code",
   "execution_count": null,
   "metadata": {},
   "outputs": [],
   "source": [
    "plot(henon_heiles_dx, henon_heiles_dy)"
   ]
  },
  {
   "cell_type": "code",
   "execution_count": null,
   "metadata": {},
   "outputs": [],
   "source": [
    "fig = plt.figure()\n",
    "ax = fig.gca(projection='3d')\n",
    "ax.plot(henon_heiles_dx, henon_heiles_dy, henon_heiles_dv)"
   ]
  },
  {
   "cell_type": "code",
   "execution_count": null,
   "metadata": {},
   "outputs": [],
   "source": [
    "## extract all maps and attractors to files\n",
    "## calculate mle's\n",
    "## ??????\n",
    "## profit!\n",
    "\n",
    "\n",
    "def save_to_file(maplist, name):\n",
    "    with open(name + '.dat', 'wb') as f:\n",
    "        for e in maplist:\n",
    "            f.write(str(e) + '\\n')\n",
    "\n",
    "\n",
    "all_maps = []\n",
    "all_maps.append([logistic, 'logistic_map'])\n",
    "#all_maps.append([sine, 'sine_map'])\n",
    "all_maps.append([tent, 'tent_map'])\n",
    "all_maps.append([cubic_map, 'cubic_map'])\n",
    "all_maps.append([rickers, 'rickers'])\n",
    "all_maps.append([cusp_map, 'cusp_map'])\n",
    "all_maps.append([pinchers_map, 'pinchers_map'])\n",
    "all_maps.append([spence_map, 'spence_map'])\n",
    "all_maps.append([lozi_map, 'lozi_map'])\n",
    "all_maps.append([delayed_logistic, 'delayed_logistic_map'])\n",
    "all_maps.append([tinkerbell_map, 'tinkerbell_map'])\n",
    "all_maps.append([burgers_map, 'burgers_map'])\n",
    "all_maps.append([holmes_map, 'holmes_map'])\n",
    "all_maps.append([ikeda_map, 'ikeda_map'])\n",
    "all_maps.append([henon_area_map, 'henon_area_map'])\n",
    "all_maps.append([gingerbread_map, 'gingerbreadman_map'])\n",
    "all_maps.append([chaotic_web_map_x, 'chaotic_web_map'])\n",
    "all_maps.append([lorenz_3d_map, 'lorenz_3d_map'])\n",
    "all_maps.append([damped_driven_pendulum_dx, 'damped_drive_pendulum'])\n",
    "all_maps.append([driven_van_der_pol_dx, 'driven_van_der_pol_oscillator'])\n",
    "all_maps.append([shawn_van_der_pol_dx, 'shawn_van_der_pol_oscillator'])\n",
    "all_maps.append([forced_brusselator_dx, 'forced_brusselator'])\n",
    "all_maps.append([ueda_dx, 'ueda_oscillator'])\n",
    "all_maps.append([duffing_dx, 'duffing_oscillator'])\n",
    "all_maps.append([duffing_van_der_pol_dx, 'duffing_van_der_pol_oscillator'])\n",
    "all_maps.append([rayleigh_duffling_dx, 'rayleigh_duffing_oscillator'])\n",
    "all_maps.append([lorenz_attractor_dx, 'lorenz_attractor'])\n",
    "all_maps.append([rossler_attractor_dx, 'rossler_attractor'])\n",
    "all_maps.append([diffusionless_lorenz_attractor_dx, 'diffusionless_lorenz_attractor'])\n",
    "all_maps.append([complex_butterfly_dx, 'complex_butterfly_attractor'])\n",
    "all_maps.append([chen_system_dx, 'chen_system'])\n",
    "all_maps.append([hadley_circulation_dx, 'hadley_circulation'])\n",
    "all_maps.append([ACT_attractor_dx, 'ACT_attractor'])\n",
    "all_maps.append([rabinovich_fabrikant_dx, 'rabinovich_fabrikant_attractor'])\n",
    "all_maps.append([linear_feedback_dx, 'linear_feedback_system'])\n",
    "all_maps.append([chua_circuit_dx, 'chua_circuit'])\n",
    "all_maps.append([moore_spiegel_oscillator_dx, 'moore_spiegel_oscillator'])\n",
    "all_maps.append([thomas_attractor_dx, 'thomas_attractor'])\n",
    "all_maps.append([halvorsen_attractor_dx, 'halvorsen_attractor'])\n",
    "all_maps.append([burke_shaw_dx, 'burke_shaw_attractor'])\n",
    "all_maps.append([rucklidge_attractor_dx, 'rucklidge_attractor'])\n",
    "all_maps.append([windmi_attractor_dx, 'WINDMI_attractor'])\n",
    "all_maps.append([simplest_quadratic_dx, 'simplest_quadratic_flow'])\n",
    "all_maps.append([simplest_cubic_dx, 'simples_cubic_flow'])\n",
    "all_maps.append([simplest_linear_dx, 'simplest_linear_flow'])\n",
    "all_maps.append([double_scroll_dx, 'double_scroll'])\n",
    "all_maps.append([driven_pendulum_dx, 'driven_pendulum'])\n",
    "all_maps.append([simplest_driven_chaotic_flow_dx, 'simplest_driven_chaotic_flow'])\n",
    "all_maps.append([nose_hoover_dx, 'nose_hoover_oscillator'])\n",
    "all_maps.append([labyrinth_dx, 'labyrinth_chaos'])\n",
    "all_maps.append([henon_heiles_dx, 'henon_heiles_system'])\n",
    "\n",
    "for m in all_maps:\n",
    "    save_to_file(m[0], m[1])"
   ]
  },
  {
   "cell_type": "code",
   "execution_count": null,
   "metadata": {},
   "outputs": [],
   "source": []
  }
 ],
 "metadata": {
  "kernelspec": {
   "display_name": "Python 2",
   "language": "python",
   "name": "python2"
  },
  "language_info": {
   "codemirror_mode": {
    "name": "ipython",
    "version": 3
   },
   "file_extension": ".py",
   "mimetype": "text/x-python",
   "name": "python",
   "nbconvert_exporter": "python",
   "pygments_lexer": "ipython3",
   "version": "3.6.5"
  }
 },
 "nbformat": 4,
 "nbformat_minor": 2
}
