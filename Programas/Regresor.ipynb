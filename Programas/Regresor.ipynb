{
 "cells": [
  {
   "cell_type": "code",
   "execution_count": 1,
   "metadata": {},
   "outputs": [],
   "source": [
    "# Pandas is used for data manipulation\n",
    "import pandas as pd\n",
    "import numpy as np\n",
    "# usar Skicit-learn para dividir los datos en entrenamiento y validación\n",
    "from sklearn.model_selection import train_test_split\n",
    "# Importar el modelo que vamos a usar\n",
    "from sklearn.ensemble import RandomForestRegressor\n",
    "from sklearn.tree import export_graphviz\n",
    "import pydot# Saca un árbol del bosque\n",
    "from IPython.display import SVG\n",
    "from graphviz import Source\n",
    "import matplotlib.pyplot as plt\n",
    "%matplotlib inline\n",
    "import pickle\n",
    "from pandas.tools.plotting import scatter_matrix"
   ]
  },
  {
   "cell_type": "markdown",
   "metadata": {},
   "source": [
    "Error mae donde $y$ es el valor real $\\hat{y}$ es el valor predicho y N es el total de datos\n",
    "\\begin{equation}\n",
    "mae = \\frac{1}{N}\\sum\\limits_{i=0}^{N}|\\hat{y_{i}}-y_{i}|\n",
    "\\end{equation}\n",
    "\n",
    "Error mse\n",
    "\\begin{equation}\n",
    "mse = \\frac{1}{N}\\sum\\limits_{i=0}^{N}(\\hat{y_{i}}-y_{i})^{2}\n",
    "\\end{equation}\n",
    "\n",
    "Error rmse\n",
    "\\begin{equation}\n",
    "rmse = \\sqrt{\\frac{\\sum\\limits_{i=0}^{N}(\\hat{y_{i}}-y_{i})^{2}}{N}}\n",
    "\\end{equation}\n",
    "\n",
    "Error mape\n",
    "\\begin{equation}\n",
    "mape = \\frac{100\\%}{N} \\sum\\limits_{i=1}^{N} |\\frac{y_{i}-\\hat{y_{i}}}{y_{i}}|\n",
    "\\end{equation}"
   ]
  },
  {
   "cell_type": "code",
   "execution_count": 2,
   "metadata": {},
   "outputs": [],
   "source": [
    "def smape(y_true, y_predict):\n",
    "    return 100/len(y_true) * np.sum(2 * np.abs(y_predict - y_true) / (np.abs(y_true) + np.abs(y_predict)))"
   ]
  },
  {
   "cell_type": "code",
   "execution_count": 3,
   "metadata": {},
   "outputs": [],
   "source": [
    "def regresorBosquesAleatorios(numArb,numDatos,analiVarImp=1,porcVali=0.3):\n",
    "    # Read in data as pandas dataframe and display first 5 rows\n",
    "    caracte = pd.read_csv('regresor/errores_prediccion_smape.csv')\n",
    "    # Shuffle\n",
    "    print(\"Base de datos de caracteristicas y error\\n\",caracte[0:10])\n",
    "    caracte = caracte.reindex(np.random.permutation(caracte.index))\n",
    "    caracte = caracte[0:numDatos]\n",
    "    caracte\n",
    "    print(\"Base de datos de caracteristicas y error con intercambio de indices\\n\",caracte[0:10])\n",
    "    \n",
    "    #Características y etiquetas\n",
    "    # Las etiquetas son los valores que queremos predecir\n",
    "    objetivo = np.array(caracte['smape pronostico'])\n",
    "    # Eliminar las etiquetas de las funciones\n",
    "    # eje 1 se refiere a las columnas\n",
    "    caracte= caracte.drop('smape pronostico', axis = 1)\n",
    "    # Guardar nombres de funciones para su uso posterior\n",
    "    listaCaracte = list(caracte.columns)\n",
    "    # Convertir arreglo numpy\n",
    "    caracte = np.array(caracte)\n",
    "    caracte\n",
    "    \n",
    "    \n",
    "    #Preparación de los datos\n",
    "    # Divide los datos en conjuntos de entrenamiento y prueba\n",
    "    entreCaracte, validaCaracte, entreObjetivo, validaObjetivo = train_test_split(caracte, objetivo, \n",
    "                                                                                test_size = porcVali)#,\n",
    "                                                                           #random_state = 42)\n",
    "    print('Entrenamiento caracteristicas dimensiones:', entreCaracte.shape)\n",
    "    print('Entrenamiento objetivo dimensiones:', entreObjetivo.shape)\n",
    "    print('Validacion caracteristicas dimensiones:', validaCaracte.shape)\n",
    "    print('Validacion objetivo dimensiones:', validaObjetivo.shape)\n",
    "    \n",
    "    \n",
    "    # Inicialización del modelo \n",
    "    rf = RandomForestRegressor(n_estimators= numArb,criterion=\"mse\",n_jobs=-1,verbose=1)#, random_state=42)\n",
    "    # Entrenar el modelo con los datos de entrenamiento\n",
    "    print(\"entreCaracte\\n\",entreCaracte,\"\\n\\nentreObjetivo\",entreObjetivo)\n",
    "    rf.fit(entreCaracte, entreObjetivo);\n",
    "    rf.decision_path(entreCaracte)\n",
    "    \n",
    "    #Hacer predicciones sobre datos de validación\n",
    "    #Usando el método de predicción del bosque en los datos de prueba\n",
    "    predicciones = rf.predict(validaCaracte)\n",
    "    #Calculando el error absoluto\n",
    "    errors = abs(predicciones - validaObjetivo)\n",
    "    #Calculando el error absoluto medio\n",
    "    print('mae:', round(np.mean(errors), 4))\n",
    "    \n",
    "    # Calculando el error porcentual absoluto medio (MAPE)\n",
    "    mape = 100 * (errors / validaObjetivo)\n",
    "    smape1 = smape(validaObjetivo,predicciones)\n",
    "    # Calculando RMSE\n",
    "    rmse = np.sqrt(np.sum(np.power((predicciones-validaObjetivo),2)) / len(predicciones))\n",
    "    print(\"rmse\",rmse,\"smape\",smape1)\n",
    "    # Calcular y mostrar precisión\n",
    "    precision = 100 - np.mean(mape)\n",
    "    print('precision buena:', round(precision, 4), '%.')\n",
    "    print(\"precision con smape\",100-smape1)\n",
    "#     scatter_matrix(caracte, figsize=(12, 8))\n",
    "    if analiVarImp == 1:\n",
    "        #Variables importantes\n",
    "        # Obtener la importancias de características numéricas\n",
    "        importantes = list(rf.feature_importances_)\n",
    "        # Lista de tuplas con variable e importancia.\n",
    "        caracte_importantes = [(caracte, round(importance, 2)) for caracte, importance in zip(listaCaracte, importantes)]\n",
    "        # Ordena las características por las más importantes primero\n",
    "        caracte_importantes = sorted(caracte_importantes, key = lambda x: x[1], reverse = True)\n",
    "        # Imprima la característica y las importancias\n",
    "        [print('Variable: {:20} Importance: {}'.format(*pair)) for pair in caracte_importantes];\n",
    "\n",
    "\n",
    "        #Dos características más importantes\n",
    "        # New random forest with only the two most important variables\n",
    "        rfMasImportantes = RandomForestRegressor(n_estimators= numArb)\n",
    "        # Extract the two most important caracte\n",
    "        indicesImportantes = [listaCaracte.index('1/SNR'), listaCaracte.index('Caos')]\n",
    "        entreImportantes = entreCaracte[:, indicesImportantes]\n",
    "        valiImportantes = validaCaracte[:, indicesImportantes]\n",
    "        # Train the random forest\n",
    "        rfMasImportantes.fit(entreImportantes, entreObjetivo)\n",
    "        # Make predicciones and determine the error\n",
    "        predicciones = rfMasImportantes.predict(valiImportantes)\n",
    "        errors = abs(predicciones - validaObjetivo)\n",
    "        # Display the performance metrics\n",
    "        print('mae:', round(np.mean(errors), 2))\n",
    "        mape = np.mean(100 * (errors / validaObjetivo))\n",
    "        precision = 100 - mape\n",
    "        print('precision:', round(precision, 2), '%.')\n",
    "\n",
    "        # Visualizaciones\n",
    "        # Estilo del plot \n",
    "        plt.style.use('fivethirtyeight')\n",
    "        # lista de ubicaciones x para dibujar\n",
    "        valoresX = list(range(len(importantes)))\n",
    "        # gráfico de barras\n",
    "        plt.bar(valoresX, importantes, orientation = 'vertical')\n",
    "        # Marque las etiquetas para el eje x\n",
    "        plt.xticks(valoresX, listaCaracte, rotation='vertical')\n",
    "        # Etiquetas y título del eje\n",
    "        plt.ylabel('Importancia'); plt.xlabel('Variable'); plt.title('Importancia de las variables'); \n",
    "\n",
    "        # Importar herramientas necesarias para la visualización\n",
    "    arbol = rf.estimators_[5]# Export the image to a dot file\n",
    "    print(\"tamano stimators\",len(rf.estimators_),\"n_features_\",rf.n_features_)\n",
    "    export_graphviz(arbol, out_file = 'arbol.dot', feature_names = listaCaracte, rounded = True, precision = 1)# Use dot file to create a graph\n",
    "    #     (graph, ) = pydot.graph_from_dot_file('arbol.dot')# Write graph to a png file\n",
    "    #     graph.write_png('arbol.png')\n",
    "    return rf "
   ]
  },
  {
   "cell_type": "code",
   "execution_count": 10,
   "metadata": {},
   "outputs": [],
   "source": [
    "def calidadSt(inicio,numDatos,modelo):\n",
    "    # Read in data as pandas dataframe and display first 5 rows\n",
    "    features = pd.read_csv('regresor/errores_prediccion_smape.csv')\n",
    "    # Shuffle\n",
    "    #features = features.reindex(np.random.permutation(features.index))\n",
    "    features = features[inicio:numDatos]\n",
    "#     print(features)\n",
    "    \n",
    "    #Características y etiquetas\n",
    "    # Las etiquetas son los valores que queremos predecir\n",
    "    labels = np.array(features['smape pronostico'])\n",
    "    # Eliminar las etiquetas de las funciones\n",
    "    # eje 1 se refiere a las columnas\n",
    "    features= features.drop('smape pronostico', axis = 1)\n",
    "    # Guardar nombres de funciones para su uso posterior\n",
    "    feature_list = list(features.columns)\n",
    "    # Convertir arreglo numpy\n",
    "    features = np.array(features)\n",
    "#     features\n",
    "\n",
    "    print('Caracteristicas dimensiones:', features.shape)\n",
    "    print('Caracteristicas:', features)\n",
    "    print('Predicciones dimensiones:', labels.shape)\n",
    "    \n",
    "    # Load from file\n",
    "    with open(modelo, 'rb') as file:\n",
    "        rf = pickle.load(file)\n",
    "#     print(\"rf\",rf)\n",
    "#     # Calculate the accuracy score and predict target values\n",
    "#     score = rf.score(Xtest, Ytest)\n",
    "#     print(\"Test score: {0:.2f} %\".format(100 * score))\n",
    "#     Ypredict = pickle_model.predict(Xtest)\n",
    "    \n",
    "    #Hacer predicciones sobre datos de validación\n",
    "    #Usando el método de predicción del bosque en los datos de prueba\n",
    "    predictions = rf.predict(features)\n",
    "    print(\"predictions\",float(predictions),\"real\",float(labels))\n",
    "    #Calculando el error absoluto\n",
    "    errors = abs(predictions - labels)\n",
    "    #Calculando el error absoluto medio\n",
    "    print('Mean Absolute Error:', round(np.mean(errors), 4))\n",
    "    \n",
    "    # Calculando el error porcentual absoluto medio (MAPE)\n",
    "    mape = 100 * (errors / labels)\n",
    "    # Calculando RMSE\n",
    "    rmse = np.sqrt(np.sum(np.power((predictions-labels),2)) / len(predictions))\n",
    "    print(\"rmse\",rmse)\n",
    "    # Calcular y mostrar precisión\n",
    "    accuracy = 100 - np.mean(mape)\n",
    "    print('Accuracy:', round(accuracy, 4), '%.')"
   ]
  },
  {
   "cell_type": "code",
   "execution_count": 14,
   "metadata": {
    "scrolled": false
   },
   "outputs": [
    {
     "name": "stdout",
     "output_type": "stream",
     "text": [
      "Base de datos de caracteristicas y error\n",
      "    Datos Faltantes  Valores Atípicos     1/SNR      Caos  smape pronostico\n",
      "0                0                 0  0.012627  0.001054          1.123105\n",
      "1                0                 0  0.039752  0.000761         15.959387\n",
      "2                0                 0  0.049423 -0.000214         24.011332\n",
      "3                0                 2  0.065870 -0.000283         36.160149\n",
      "4                0                 5  0.097306  0.000244         55.047501\n",
      "5                0                 6  0.188165  0.000052         77.953079\n",
      "6                0                 3  0.120126 -0.000276         16.034263\n",
      "7                0                 3  0.125379 -0.001319         26.786634\n",
      "8                0                 4  0.125767 -0.000345         31.806376\n",
      "9                0                 6  0.134303 -0.000545         44.889877\n",
      "Base de datos de caracteristicas y error con intercambio de indices\n",
      "       Datos Faltantes  Valores Atípicos     1/SNR      Caos  smape pronostico\n",
      "895                 0                 4  0.200202 -0.001424         51.687780\n",
      "1960                0                 2  0.314611  0.000701         69.710807\n",
      "143                15                 6  0.516295  0.014728         92.955637\n",
      "1121                5                 3  0.182702  0.000860         92.151493\n",
      "1151                5                 6  0.620019  0.014830        110.560640\n",
      "1213               15                 3  0.198341 -0.000279         48.963183\n",
      "1167               10                 3  0.174522  0.000411         61.267079\n",
      "1353                5                 0  0.241305 -0.004411         64.749790\n",
      "1838               15                 0  0.047816 -0.000378         20.890756\n",
      "227                 0                 1  0.313790  0.000493         85.138759\n",
      "Entrenamiento caracteristicas dimensiones: (1512, 4)\n",
      "Entrenamiento objetivo dimensiones: (1512,)\n",
      "Validacion caracteristicas dimensiones: (648, 4)\n",
      "Validacion objetivo dimensiones: (648,)\n",
      "entreCaracte\n",
      " [[ 2.50000000e+01  2.00000000e+00  8.74296378e-02  4.92310800e-04]\n",
      " [ 1.50000000e+01  0.00000000e+00  2.18528343e-01  5.39993810e-03]\n",
      " [ 5.00000000e+00  7.00000000e+00  5.43157752e-01  1.46680450e-02]\n",
      " ...\n",
      " [ 2.50000000e+01  0.00000000e+00  5.10007130e-02  4.61764800e-04]\n",
      " [ 1.50000000e+01  3.00000000e+00  3.19056194e-01 -3.38253600e-04]\n",
      " [ 2.00000000e+01  2.00000000e+00  1.20327974e-01 -2.78913540e-03]] \n",
      "\n",
      "entreObjetivo [48.20044616 52.23717687 96.32572314 ... 21.76744609 54.84932722\n",
      " 22.7152761 ]\n"
     ]
    },
    {
     "name": "stderr",
     "output_type": "stream",
     "text": [
      "[Parallel(n_jobs=-1)]: Done  34 tasks      | elapsed:    0.0s\n",
      "[Parallel(n_jobs=-1)]: Done 184 tasks      | elapsed:    0.2s\n",
      "[Parallel(n_jobs=-1)]: Done 434 tasks      | elapsed:    0.4s\n",
      "[Parallel(n_jobs=-1)]: Done 784 tasks      | elapsed:    0.7s\n",
      "[Parallel(n_jobs=-1)]: Done 1234 tasks      | elapsed:    1.1s\n",
      "[Parallel(n_jobs=-1)]: Done 1784 tasks      | elapsed:    1.5s\n",
      "[Parallel(n_jobs=-1)]: Done 2000 out of 2000 | elapsed:    1.7s finished\n",
      "[Parallel(n_jobs=-1)]: Done  34 tasks      | elapsed:    0.0s\n",
      "[Parallel(n_jobs=-1)]: Done 184 tasks      | elapsed:    0.2s\n",
      "[Parallel(n_jobs=-1)]: Done 434 tasks      | elapsed:    0.4s\n",
      "[Parallel(n_jobs=-1)]: Done 784 tasks      | elapsed:    0.8s\n",
      "[Parallel(n_jobs=-1)]: Done 1234 tasks      | elapsed:    1.2s\n",
      "[Parallel(n_jobs=-1)]: Done 1784 tasks      | elapsed:    1.7s\n",
      "[Parallel(n_jobs=-1)]: Done 2000 out of 2000 | elapsed:    1.9s finished\n",
      "[Parallel(n_jobs=8)]: Done  34 tasks      | elapsed:    0.0s\n",
      "[Parallel(n_jobs=8)]: Done 184 tasks      | elapsed:    0.1s\n",
      "[Parallel(n_jobs=8)]: Done 434 tasks      | elapsed:    0.2s\n",
      "[Parallel(n_jobs=8)]: Done 784 tasks      | elapsed:    0.3s\n",
      "[Parallel(n_jobs=8)]: Done 1234 tasks      | elapsed:    0.5s\n",
      "[Parallel(n_jobs=8)]: Done 1784 tasks      | elapsed:    0.7s\n",
      "[Parallel(n_jobs=8)]: Done 2000 out of 2000 | elapsed:    0.8s finished\n"
     ]
    },
    {
     "name": "stdout",
     "output_type": "stream",
     "text": [
      "mae: 6.318\n",
      "rmse 9.615103457476152 smape 13.972947752543062\n",
      "precision buena: 85.0789 %.\n",
      "precision con smape 86.02705224745694\n",
      "Variable: 1/SNR                Importance: 0.84\n",
      "Variable: Caos                 Importance: 0.09\n",
      "Variable: Valores Atípicos     Importance: 0.05\n",
      "Variable: Datos Faltantes      Importance: 0.02\n",
      "mae: 7.61\n",
      "precision: 83.2 %.\n",
      "tamano stimators 2000 n_features_ 4\n"
     ]
    },
    {
     "data": {
      "image/png": "[encoded data removed]",
      "text/plain": [
       "<Figure size 432x288 with 1 Axes>"
      ]
     },
     "metadata": {},
     "output_type": "display_data"
    }
   ],
   "source": [
    "rf = regresorBosquesAleatorios(2000,2160,analiVarImp=1,porcVali=0.3)"
   ]
  },
  {
   "cell_type": "code",
   "execution_count": 126,
   "metadata": {},
   "outputs": [],
   "source": [
    "# Guardar el modelo en el directorio actual\n",
    "pkl_filename = \"rfModelo2.pkl\"\n",
    "with open(pkl_filename, 'wb') as file:\n",
    "    pickle.dump(rf, file)"
   ]
  },
  {
   "cell_type": "code",
   "execution_count": 18,
   "metadata": {},
   "outputs": [
    {
     "name": "stdout",
     "output_type": "stream",
     "text": [
      "Caracteristicas dimensiones: (1, 4)\n",
      "Caracteristicas: [[2.50000000e+01 4.00000000e+00 1.89012622e-01 5.64354200e-04]]\n",
      "Predicciones dimensiones: (1,)\n"
     ]
    },
    {
     "name": "stderr",
     "output_type": "stream",
     "text": [
      "[Parallel(n_jobs=8)]: Done  34 tasks      | elapsed:    0.0s\n",
      "[Parallel(n_jobs=8)]: Done 184 tasks      | elapsed:    0.0s\n",
      "[Parallel(n_jobs=8)]: Done 434 tasks      | elapsed:    0.1s\n",
      "[Parallel(n_jobs=8)]: Done 784 tasks      | elapsed:    0.2s\n"
     ]
    },
    {
     "name": "stdout",
     "output_type": "stream",
     "text": [
      "predictions 44.95726691112597 real 43.6317777599963\n",
      "Mean Absolute Error: 1.3255\n",
      "rmse 1.3254891511296734\n",
      "Accuracy: 96.9621 %.\n",
      "tardo 0.438129186630249\n"
     ]
    },
    {
     "name": "stderr",
     "output_type": "stream",
     "text": [
      "[Parallel(n_jobs=8)]: Done 1000 out of 1000 | elapsed:    0.2s finished\n"
     ]
    }
   ],
   "source": [
    "from time import time\n",
    "tiempoini = time()\n",
    "calidadSt(200,201,\"rfModelo.pkl\")\n",
    "print(\"tardo\",time()-tiempoini)"
   ]
  },
  {
   "cell_type": "code",
   "execution_count": 130,
   "metadata": {},
   "outputs": [
    {
     "name": "stdout",
     "output_type": "stream",
     "text": [
      "RandomForestRegressor(bootstrap=True, criterion='mse', max_depth=None,\n",
      "           max_features='auto', max_leaf_nodes=None,\n",
      "           min_impurity_decrease=0.0, min_impurity_split=None,\n",
      "           min_samples_leaf=1, min_samples_split=2,\n",
      "           min_weight_fraction_leaf=0.0, n_estimators=1000, n_jobs=-1,\n",
      "           oob_score=False, random_state=None, verbose=1, warm_start=False)\n"
     ]
    }
   ],
   "source": [
    "# Load from file\n",
    "with open(pkl_filename, 'rb') as file:\n",
    "    pickle_model = pickle.load(file)\n",
    "\n",
    "# # Calculate the accuracy score and predict target values\n",
    "# score = pickle_model.score(Xtest, Ytest)\n",
    "# print(\"Test score: {0:.2f} %\".format(100 * score))\n",
    "# Ypredict = pickle_model.predict(Xtest)"
   ]
  },
  {
   "cell_type": "code",
   "execution_count": 20,
   "metadata": {},
   "outputs": [
    {
     "ename": "AttributeError",
     "evalue": "'list' object has no attribute 'tree_'",
     "output_type": "error",
     "traceback": [
      "\u001b[0;31m----------------------------------------------------------------------\u001b[0m",
      "\u001b[0;31mAttributeError\u001b[0m                       Traceback (most recent call last)",
      "\u001b[0;32m<ipython-input-20-1fc912f15cae>\u001b[0m in \u001b[0;36m<module>\u001b[0;34m()\u001b[0m\n\u001b[0;32m----> 1\u001b[0;31m \u001b[0mprint\u001b[0m\u001b[0;34m(\u001b[0m\u001b[0mrf\u001b[0m\u001b[0;34m.\u001b[0m\u001b[0mestimators_\u001b[0m\u001b[0;34m.\u001b[0m\u001b[0mtree_\u001b[0m\u001b[0;34m.\u001b[0m\u001b[0mchildren_left\u001b[0m\u001b[0;34m)\u001b[0m\u001b[0;34m\u001b[0m\u001b[0m\n\u001b[0m",
      "\u001b[0;31mAttributeError\u001b[0m: 'list' object has no attribute 'tree_'"
     ]
    }
   ],
   "source": [
    "print(rf.estimators_.tree_.children_left)"
   ]
  },
  {
   "cell_type": "code",
   "execution_count": 7,
   "metadata": {},
   "outputs": [],
   "source": [
    "def calidadCaracteristicas(caracteristicas,modelo):\n",
    "    # Read in data as pandas dataframe and display first 5 rows\n",
    "    features = np.array(caracteristicas)\n",
    "#     features\n",
    "\n",
    "    print('Caracteristicas dimensiones:', features.shape)\n",
    "    print('Caracteristicas:', features)\n",
    "    \n",
    "    # Load from file\n",
    "    with open(modelo, 'rb') as file:\n",
    "        rf = pickle.load(file)\n",
    "\n",
    "    #Hacer predicciones sobre datos de validación\n",
    "    #Usando el método de predicción del bosque en los datos de prueba\n",
    "    predictions = rf.predict(features)\n",
    "    print(\"predictions\",predictions)"
   ]
  },
  {
   "cell_type": "code",
   "execution_count": 12,
   "metadata": {},
   "outputs": [
    {
     "name": "stdout",
     "output_type": "stream",
     "text": [
      "Caracteristicas dimensiones: (1, 4)\n",
      "Caracteristicas: [[0.        0.        0.        0.0001051]]\n"
     ]
    },
    {
     "name": "stderr",
     "output_type": "stream",
     "text": [
      "[Parallel(n_jobs=8)]: Done  34 tasks      | elapsed:    0.0s\n",
      "[Parallel(n_jobs=8)]: Done 184 tasks      | elapsed:    0.0s\n",
      "[Parallel(n_jobs=8)]: Done 434 tasks      | elapsed:    0.1s\n",
      "[Parallel(n_jobs=8)]: Done 784 tasks      | elapsed:    0.2s\n"
     ]
    },
    {
     "name": "stdout",
     "output_type": "stream",
     "text": [
      "predictions [7.51046455]\n"
     ]
    },
    {
     "name": "stderr",
     "output_type": "stream",
     "text": [
      "[Parallel(n_jobs=8)]: Done 1000 out of 1000 | elapsed:    0.2s finished\n"
     ]
    }
   ],
   "source": [
    "calidadCaracteristicas([[0,0,0,0.0001051]],\"rfModelo.pkl\")"
   ]
  },
  {
   "cell_type": "code",
   "execution_count": null,
   "metadata": {},
   "outputs": [],
   "source": []
  }
 ],
 "metadata": {
  "kernelspec": {
   "display_name": "Python 3",
   "language": "python",
   "name": "python3"
  },
  "language_info": {
   "codemirror_mode": {
    "name": "ipython",
    "version": 3
   },
   "file_extension": ".py",
   "mimetype": "text/x-python",
   "name": "python",
   "nbconvert_exporter": "python",
   "pygments_lexer": "ipython3",
   "version": "3.6.5"
  }
 },
 "nbformat": 4,
 "nbformat_minor": 2
}
